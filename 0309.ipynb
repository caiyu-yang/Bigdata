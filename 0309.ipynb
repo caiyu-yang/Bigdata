{
  "nbformat": 4,
  "nbformat_minor": 0,
  "metadata": {
    "colab": {
      "name": "0309.ipynb",
      "provenance": [],
      "collapsed_sections": [],
      "include_colab_link": true
    },
    "kernelspec": {
      "name": "ir",
      "display_name": "R"
    }
  },
  "cells": [
    {
      "cell_type": "markdown",
      "metadata": {
        "id": "view-in-github",
        "colab_type": "text"
      },
      "source": [
        "<a href=\"https://colab.research.google.com/github/caiyu-yang/Bigdata/blob/main/0309.ipynb\" target=\"_parent\"><img src=\"https://colab.research.google.com/assets/colab-badge.svg\" alt=\"Open In Colab\"/></a>"
      ]
    },
    {
      "cell_type": "markdown",
      "metadata": {
        "id": "s5dNiVh5Dw27"
      },
      "source": [
        "變數練習"
      ]
    },
    {
      "cell_type": "code",
      "metadata": {
        "id": "kaKEZzInD0oW"
      },
      "source": [
        "a <- 5\r\n",
        "b <- 3.8\r\n",
        "c <- -1"
      ],
      "execution_count": 69,
      "outputs": []
    },
    {
      "cell_type": "code",
      "metadata": {
        "colab": {
          "base_uri": "https://localhost:8080/"
        },
        "id": "3Js8epNOECVr",
        "outputId": "88f73181-8c46-49e9-8f18-b798567eb261"
      },
      "source": [
        "str(a)\r\n",
        "str(b)\r\n",
        "str(c)"
      ],
      "execution_count": 70,
      "outputs": [
        {
          "output_type": "stream",
          "text": [
            " num 5\n",
            " num 3.8\n",
            " num -1\n"
          ],
          "name": "stdout"
        }
      ]
    },
    {
      "cell_type": "code",
      "metadata": {
        "colab": {
          "base_uri": "https://localhost:8080/",
          "height": 34
        },
        "id": "cC7Q-dYBGd0D",
        "outputId": "2b738aa8-6499-4d1c-c3ec-9993392315c6"
      },
      "source": [
        "is.numeric(a)"
      ],
      "execution_count": 71,
      "outputs": [
        {
          "output_type": "display_data",
          "data": {
            "text/plain": [
              "[1] TRUE"
            ],
            "text/latex": "TRUE",
            "text/markdown": "TRUE",
            "text/html": [
              "TRUE"
            ]
          },
          "metadata": {
            "tags": []
          }
        }
      ]
    },
    {
      "cell_type": "code",
      "metadata": {
        "colab": {
          "base_uri": "https://localhost:8080/",
          "height": 34
        },
        "id": "eMhAAiTfIY9D",
        "outputId": "3114f93b-9281-4798-b091-50bb6e0bff9d"
      },
      "source": [
        "is.numeric(b)"
      ],
      "execution_count": 72,
      "outputs": [
        {
          "output_type": "display_data",
          "data": {
            "text/plain": [
              "[1] TRUE"
            ],
            "text/latex": "TRUE",
            "text/markdown": "TRUE",
            "text/html": [
              "TRUE"
            ]
          },
          "metadata": {
            "tags": []
          }
        }
      ]
    },
    {
      "cell_type": "code",
      "metadata": {
        "colab": {
          "base_uri": "https://localhost:8080/",
          "height": 34
        },
        "id": "ftOq_302Ib3G",
        "outputId": "a93c8434-5465-45ab-d8b6-acf7e0bc8ae7"
      },
      "source": [
        "is.numeric(c)"
      ],
      "execution_count": 73,
      "outputs": [
        {
          "output_type": "display_data",
          "data": {
            "text/plain": [
              "[1] TRUE"
            ],
            "text/latex": "TRUE",
            "text/markdown": "TRUE",
            "text/html": [
              "TRUE"
            ]
          },
          "metadata": {
            "tags": []
          }
        }
      ]
    },
    {
      "cell_type": "code",
      "metadata": {
        "id": "A5zPI6TCI2kI"
      },
      "source": [
        "d <-\"Hello Bitch\"\r\n",
        "e <-\"Good\""
      ],
      "execution_count": 74,
      "outputs": []
    },
    {
      "cell_type": "code",
      "metadata": {
        "colab": {
          "base_uri": "https://localhost:8080/"
        },
        "id": "Bcg9nyaUJE08",
        "outputId": "dddaed5b-1f53-4487-d74b-fe07a48f7cb9"
      },
      "source": [
        "str(d)\r\n",
        "str(e)"
      ],
      "execution_count": 75,
      "outputs": [
        {
          "output_type": "stream",
          "text": [
            " chr \"Hello Bitch\"\n",
            " chr \"Good\"\n"
          ],
          "name": "stdout"
        }
      ]
    },
    {
      "cell_type": "code",
      "metadata": {
        "id": "yjQX0oR6J4ZH"
      },
      "source": [
        "f <- c(5,4,3,2,1)\r\n",
        "g <- c(\"劉又甜\",\"楊采諭\",\"白富美\",\"霸道總裁\")"
      ],
      "execution_count": 76,
      "outputs": []
    },
    {
      "cell_type": "code",
      "metadata": {
        "colab": {
          "base_uri": "https://localhost:8080/",
          "height": 34
        },
        "id": "bB23KJllKard",
        "outputId": "5bbd54c5-1f74-40e7-b869-21ed0303094d"
      },
      "source": [
        "f[1]"
      ],
      "execution_count": 77,
      "outputs": [
        {
          "output_type": "display_data",
          "data": {
            "text/plain": [
              "[1] 5"
            ],
            "text/latex": "5",
            "text/markdown": "5",
            "text/html": [
              "5"
            ]
          },
          "metadata": {
            "tags": []
          }
        }
      ]
    },
    {
      "cell_type": "code",
      "metadata": {
        "colab": {
          "base_uri": "https://localhost:8080/",
          "height": 34
        },
        "id": "paCSS-MNKeZw",
        "outputId": "68d3543c-3141-480e-a8bf-898dd9289199"
      },
      "source": [
        "g[2]"
      ],
      "execution_count": 78,
      "outputs": [
        {
          "output_type": "display_data",
          "data": {
            "text/plain": [
              "[1] \"楊采諭\""
            ],
            "text/latex": "'楊采諭'",
            "text/markdown": "'楊采諭'",
            "text/html": [
              "'楊采諭'"
            ]
          },
          "metadata": {
            "tags": []
          }
        }
      ]
    },
    {
      "cell_type": "code",
      "metadata": {
        "colab": {
          "base_uri": "https://localhost:8080/",
          "height": 34
        },
        "id": "sVhDmPjZKlt4",
        "outputId": "40416886-8416-4c14-bdf2-bf19e1d4217b"
      },
      "source": [
        "g[c(2,3)]"
      ],
      "execution_count": 79,
      "outputs": [
        {
          "output_type": "display_data",
          "data": {
            "text/plain": [
              "[1] \"楊采諭\" \"白富美\""
            ],
            "text/latex": "\\begin{enumerate*}\n\\item '楊采諭'\n\\item '白富美'\n\\end{enumerate*}\n",
            "text/markdown": "1. '楊采諭'\n2. '白富美'\n\n\n",
            "text/html": [
              "<style>\n",
              ".list-inline {list-style: none; margin:0; padding: 0}\n",
              ".list-inline>li {display: inline-block}\n",
              ".list-inline>li:not(:last-child)::after {content: \"\\00b7\"; padding: 0 .5ex}\n",
              "</style>\n",
              "<ol class=list-inline><li>'楊采諭'</li><li>'白富美'</li></ol>\n"
            ]
          },
          "metadata": {
            "tags": []
          }
        }
      ]
    },
    {
      "cell_type": "code",
      "metadata": {
        "colab": {
          "base_uri": "https://localhost:8080/",
          "height": 34
        },
        "id": "zSl_hpZ0Kt7J",
        "outputId": "f1f259c5-c3cd-483a-8e53-c89168c8273e"
      },
      "source": [
        "g[c(1,4)]"
      ],
      "execution_count": 80,
      "outputs": [
        {
          "output_type": "display_data",
          "data": {
            "text/plain": [
              "[1] \"劉又甜\"   \"霸道總裁\""
            ],
            "text/latex": "\\begin{enumerate*}\n\\item '劉又甜'\n\\item '霸道總裁'\n\\end{enumerate*}\n",
            "text/markdown": "1. '劉又甜'\n2. '霸道總裁'\n\n\n",
            "text/html": [
              "<style>\n",
              ".list-inline {list-style: none; margin:0; padding: 0}\n",
              ".list-inline>li {display: inline-block}\n",
              ".list-inline>li:not(:last-child)::after {content: \"\\00b7\"; padding: 0 .5ex}\n",
              "</style>\n",
              "<ol class=list-inline><li>'劉又甜'</li><li>'霸道總裁'</li></ol>\n"
            ]
          },
          "metadata": {
            "tags": []
          }
        }
      ]
    },
    {
      "cell_type": "code",
      "metadata": {
        "id": "DK50lASZMhaE"
      },
      "source": [
        "h <- c(1,2,3,4,5,6,7,8,9)\r\n",
        "i <- c(2,3,4,5,6,7,8,9,10)"
      ],
      "execution_count": 81,
      "outputs": []
    },
    {
      "cell_type": "code",
      "metadata": {
        "colab": {
          "base_uri": "https://localhost:8080/",
          "height": 34
        },
        "id": "68fvgsH0NWgX",
        "outputId": "951ec091-b0dc-4e6b-aca6-04425044816a"
      },
      "source": [
        "h * i"
      ],
      "execution_count": 82,
      "outputs": [
        {
          "output_type": "display_data",
          "data": {
            "text/plain": [
              "[1]  2  6 12 20 30 42 56 72 90"
            ],
            "text/latex": "\\begin{enumerate*}\n\\item 2\n\\item 6\n\\item 12\n\\item 20\n\\item 30\n\\item 42\n\\item 56\n\\item 72\n\\item 90\n\\end{enumerate*}\n",
            "text/markdown": "1. 2\n2. 6\n3. 12\n4. 20\n5. 30\n6. 42\n7. 56\n8. 72\n9. 90\n\n\n",
            "text/html": [
              "<style>\n",
              ".list-inline {list-style: none; margin:0; padding: 0}\n",
              ".list-inline>li {display: inline-block}\n",
              ".list-inline>li:not(:last-child)::after {content: \"\\00b7\"; padding: 0 .5ex}\n",
              "</style>\n",
              "<ol class=list-inline><li>2</li><li>6</li><li>12</li><li>20</li><li>30</li><li>42</li><li>56</li><li>72</li><li>90</li></ol>\n"
            ]
          },
          "metadata": {
            "tags": []
          }
        }
      ]
    },
    {
      "cell_type": "code",
      "metadata": {
        "colab": {
          "base_uri": "https://localhost:8080/",
          "height": 34
        },
        "id": "T4Z-du-yNdVo",
        "outputId": "9fd3136f-b79e-4b7e-b6a0-69dde3871132"
      },
      "source": [
        "h^2"
      ],
      "execution_count": 83,
      "outputs": [
        {
          "output_type": "display_data",
          "data": {
            "text/plain": [
              "[1]  1  4  9 16 25 36 49 64 81"
            ],
            "text/latex": "\\begin{enumerate*}\n\\item 1\n\\item 4\n\\item 9\n\\item 16\n\\item 25\n\\item 36\n\\item 49\n\\item 64\n\\item 81\n\\end{enumerate*}\n",
            "text/markdown": "1. 1\n2. 4\n3. 9\n4. 16\n5. 25\n6. 36\n7. 49\n8. 64\n9. 81\n\n\n",
            "text/html": [
              "<style>\n",
              ".list-inline {list-style: none; margin:0; padding: 0}\n",
              ".list-inline>li {display: inline-block}\n",
              ".list-inline>li:not(:last-child)::after {content: \"\\00b7\"; padding: 0 .5ex}\n",
              "</style>\n",
              "<ol class=list-inline><li>1</li><li>4</li><li>9</li><li>16</li><li>25</li><li>36</li><li>49</li><li>64</li><li>81</li></ol>\n"
            ]
          },
          "metadata": {
            "tags": []
          }
        }
      ]
    },
    {
      "cell_type": "code",
      "metadata": {
        "colab": {
          "base_uri": "https://localhost:8080/",
          "height": 34
        },
        "id": "bM1sDHwvNoY4",
        "outputId": "e34ec7d5-ebe3-4c9a-9a7e-a733da5679bd"
      },
      "source": [
        "i^3"
      ],
      "execution_count": 84,
      "outputs": [
        {
          "output_type": "display_data",
          "data": {
            "text/plain": [
              "[1]    8   27   64  125  216  343  512  729 1000"
            ],
            "text/latex": "\\begin{enumerate*}\n\\item 8\n\\item 27\n\\item 64\n\\item 125\n\\item 216\n\\item 343\n\\item 512\n\\item 729\n\\item 1000\n\\end{enumerate*}\n",
            "text/markdown": "1. 8\n2. 27\n3. 64\n4. 125\n5. 216\n6. 343\n7. 512\n8. 729\n9. 1000\n\n\n",
            "text/html": [
              "<style>\n",
              ".list-inline {list-style: none; margin:0; padding: 0}\n",
              ".list-inline>li {display: inline-block}\n",
              ".list-inline>li:not(:last-child)::after {content: \"\\00b7\"; padding: 0 .5ex}\n",
              "</style>\n",
              "<ol class=list-inline><li>8</li><li>27</li><li>64</li><li>125</li><li>216</li><li>343</li><li>512</li><li>729</li><li>1000</li></ol>\n"
            ]
          },
          "metadata": {
            "tags": []
          }
        }
      ]
    },
    {
      "cell_type": "code",
      "metadata": {
        "colab": {
          "base_uri": "https://localhost:8080/",
          "height": 34
        },
        "id": "CboeDzsTN9k2",
        "outputId": "fd0c5d15-5167-4017-a77a-804bb0ad9ab0"
      },
      "source": [
        "h > 3"
      ],
      "execution_count": 85,
      "outputs": [
        {
          "output_type": "display_data",
          "data": {
            "text/plain": [
              "[1] FALSE FALSE FALSE  TRUE  TRUE  TRUE  TRUE  TRUE  TRUE"
            ],
            "text/latex": "\\begin{enumerate*}\n\\item FALSE\n\\item FALSE\n\\item FALSE\n\\item TRUE\n\\item TRUE\n\\item TRUE\n\\item TRUE\n\\item TRUE\n\\item TRUE\n\\end{enumerate*}\n",
            "text/markdown": "1. FALSE\n2. FALSE\n3. FALSE\n4. TRUE\n5. TRUE\n6. TRUE\n7. TRUE\n8. TRUE\n9. TRUE\n\n\n",
            "text/html": [
              "<style>\n",
              ".list-inline {list-style: none; margin:0; padding: 0}\n",
              ".list-inline>li {display: inline-block}\n",
              ".list-inline>li:not(:last-child)::after {content: \"\\00b7\"; padding: 0 .5ex}\n",
              "</style>\n",
              "<ol class=list-inline><li>FALSE</li><li>FALSE</li><li>FALSE</li><li>TRUE</li><li>TRUE</li><li>TRUE</li><li>TRUE</li><li>TRUE</li><li>TRUE</li></ol>\n"
            ]
          },
          "metadata": {
            "tags": []
          }
        }
      ]
    },
    {
      "cell_type": "code",
      "metadata": {
        "colab": {
          "base_uri": "https://localhost:8080/",
          "height": 34
        },
        "id": "ego8WEcsOCAv",
        "outputId": "d1317c80-6622-4842-8573-f35d1e4fc89e"
      },
      "source": [
        "i > 3"
      ],
      "execution_count": 31,
      "outputs": [
        {
          "output_type": "display_data",
          "data": {
            "text/plain": [
              "[1] FALSE FALSE  TRUE  TRUE  TRUE  TRUE  TRUE  TRUE  TRUE"
            ],
            "text/latex": "\\begin{enumerate*}\n\\item FALSE\n\\item FALSE\n\\item TRUE\n\\item TRUE\n\\item TRUE\n\\item TRUE\n\\item TRUE\n\\item TRUE\n\\item TRUE\n\\end{enumerate*}\n",
            "text/markdown": "1. FALSE\n2. FALSE\n3. TRUE\n4. TRUE\n5. TRUE\n6. TRUE\n7. TRUE\n8. TRUE\n9. TRUE\n\n\n",
            "text/html": [
              "<style>\n",
              ".list-inline {list-style: none; margin:0; padding: 0}\n",
              ".list-inline>li {display: inline-block}\n",
              ".list-inline>li:not(:last-child)::after {content: \"\\00b7\"; padding: 0 .5ex}\n",
              "</style>\n",
              "<ol class=list-inline><li>FALSE</li><li>FALSE</li><li>TRUE</li><li>TRUE</li><li>TRUE</li><li>TRUE</li><li>TRUE</li><li>TRUE</li><li>TRUE</li></ol>\n"
            ]
          },
          "metadata": {
            "tags": []
          }
        }
      ]
    },
    {
      "cell_type": "code",
      "metadata": {
        "id": "Dii9WoxIOG8Q"
      },
      "source": [
        "gender <- c(\"男\",\"女\",\"男\",\"女\",\"中\")"
      ],
      "execution_count": 86,
      "outputs": []
    },
    {
      "cell_type": "code",
      "metadata": {
        "id": "Iv_Iwt-5PgsR"
      },
      "source": [
        "gender <- factor(gender)"
      ],
      "execution_count": 87,
      "outputs": []
    },
    {
      "cell_type": "code",
      "metadata": {
        "colab": {
          "base_uri": "https://localhost:8080/",
          "height": 50
        },
        "id": "OD1okgg7PUYV",
        "outputId": "5d04b812-06f8-4428-f15d-ace83791ff00"
      },
      "source": [
        "gender"
      ],
      "execution_count": 88,
      "outputs": [
        {
          "output_type": "display_data",
          "data": {
            "text/plain": [
              "[1] 男 女 男 女 中\n",
              "Levels: 中 女 男"
            ],
            "text/latex": "\\begin{enumerate*}\n\\item 男\n\\item 女\n\\item 男\n\\item 女\n\\item 中\n\\end{enumerate*}\n\n\\emph{Levels}: \\begin{enumerate*}\n\\item '中'\n\\item '女'\n\\item '男'\n\\end{enumerate*}\n",
            "text/markdown": "1. 男\n2. 女\n3. 男\n4. 女\n5. 中\n\n\n\n**Levels**: 1. '中'\n2. '女'\n3. '男'\n\n\n",
            "text/html": [
              "<style>\n",
              ".list-inline {list-style: none; margin:0; padding: 0}\n",
              ".list-inline>li {display: inline-block}\n",
              ".list-inline>li:not(:last-child)::after {content: \"\\00b7\"; padding: 0 .5ex}\n",
              "</style>\n",
              "<ol class=list-inline><li>男</li><li>女</li><li>男</li><li>女</li><li>中</li></ol>\n",
              "\n",
              "<details>\n",
              "\t<summary style=display:list-item;cursor:pointer>\n",
              "\t\t<strong>Levels</strong>:\n",
              "\t</summary>\n",
              "\t<style>\n",
              "\t.list-inline {list-style: none; margin:0; padding: 0}\n",
              "\t.list-inline>li {display: inline-block}\n",
              "\t.list-inline>li:not(:last-child)::after {content: \"\\00b7\"; padding: 0 .5ex}\n",
              "\t</style>\n",
              "\t<ol class=list-inline><li>'中'</li><li>'女'</li><li>'男'</li></ol>\n",
              "</details>"
            ]
          },
          "metadata": {
            "tags": []
          }
        }
      ]
    },
    {
      "cell_type": "code",
      "metadata": {
        "id": "n6iI04FgPXky"
      },
      "source": [
        "j <- matrix(c(1:6), nrow=3, ncol=2)"
      ],
      "execution_count": 89,
      "outputs": []
    },
    {
      "cell_type": "code",
      "metadata": {
        "colab": {
          "base_uri": "https://localhost:8080/",
          "height": 190
        },
        "id": "4mULgiD8QngY",
        "outputId": "0ae7076b-5529-4d3c-c39d-5f29f3a46cee"
      },
      "source": [
        "j"
      ],
      "execution_count": 90,
      "outputs": [
        {
          "output_type": "display_data",
          "data": {
            "text/plain": [
              "     [,1] [,2]\n",
              "[1,] 1    4   \n",
              "[2,] 2    5   \n",
              "[3,] 3    6   "
            ],
            "text/latex": "A matrix: 3 × 2 of type int\n\\begin{tabular}{ll}\n\t 1 & 4\\\\\n\t 2 & 5\\\\\n\t 3 & 6\\\\\n\\end{tabular}\n",
            "text/markdown": "\nA matrix: 3 × 2 of type int\n\n| 1 | 4 |\n| 2 | 5 |\n| 3 | 6 |\n\n",
            "text/html": [
              "<table class=\"dataframe\">\n",
              "<caption>A matrix: 3 × 2 of type int</caption>\n",
              "<tbody>\n",
              "\t<tr><td>1</td><td>4</td></tr>\n",
              "\t<tr><td>2</td><td>5</td></tr>\n",
              "\t<tr><td>3</td><td>6</td></tr>\n",
              "</tbody>\n",
              "</table>\n"
            ]
          },
          "metadata": {
            "tags": []
          }
        }
      ]
    },
    {
      "cell_type": "code",
      "metadata": {
        "id": "J1Mu5oW_QsYO"
      },
      "source": [
        "k <- matrix(c(7:12), nrow=2, ncol=3)"
      ],
      "execution_count": 38,
      "outputs": []
    },
    {
      "cell_type": "code",
      "metadata": {
        "colab": {
          "base_uri": "https://localhost:8080/",
          "height": 110
        },
        "id": "9ZRkMkniQ-Jb",
        "outputId": "93c464d6-3628-4e63-e624-695a09e3e220"
      },
      "source": [
        "k\r\n"
      ],
      "execution_count": 39,
      "outputs": [
        {
          "output_type": "display_data",
          "data": {
            "text/plain": [
              "     [,1] [,2] [,3]\n",
              "[1,] 7     9   11  \n",
              "[2,] 8    10   12  "
            ],
            "text/latex": "A matrix: 2 × 3 of type int\n\\begin{tabular}{lll}\n\t 7 &  9 & 11\\\\\n\t 8 & 10 & 12\\\\\n\\end{tabular}\n",
            "text/markdown": "\nA matrix: 2 × 3 of type int\n\n| 7 |  9 | 11 |\n| 8 | 10 | 12 |\n\n",
            "text/html": [
              "<table class=\"dataframe\">\n",
              "<caption>A matrix: 2 × 3 of type int</caption>\n",
              "<tbody>\n",
              "\t<tr><td>7</td><td> 9</td><td>11</td></tr>\n",
              "\t<tr><td>8</td><td>10</td><td>12</td></tr>\n",
              "</tbody>\n",
              "</table>\n"
            ]
          },
          "metadata": {
            "tags": []
          }
        }
      ]
    },
    {
      "cell_type": "code",
      "metadata": {
        "colab": {
          "base_uri": "https://localhost:8080/",
          "height": 34
        },
        "id": "xY7kHTtYRBzG",
        "outputId": "16c20f20-1505-4779-d4dd-ce6b8c6118ba"
      },
      "source": [
        "j[2,2]"
      ],
      "execution_count": 40,
      "outputs": [
        {
          "output_type": "display_data",
          "data": {
            "text/plain": [
              "[1] 5"
            ],
            "text/latex": "5",
            "text/markdown": "5",
            "text/html": [
              "5"
            ]
          },
          "metadata": {
            "tags": []
          }
        }
      ]
    },
    {
      "cell_type": "code",
      "metadata": {
        "colab": {
          "base_uri": "https://localhost:8080/",
          "height": 34
        },
        "id": "_owbRSxvRKK6",
        "outputId": "63d27ccb-dedd-4291-f11c-26780830b9ae"
      },
      "source": [
        "j[2,]"
      ],
      "execution_count": 41,
      "outputs": [
        {
          "output_type": "display_data",
          "data": {
            "text/plain": [
              "[1] 2 5"
            ],
            "text/latex": "\\begin{enumerate*}\n\\item 2\n\\item 5\n\\end{enumerate*}\n",
            "text/markdown": "1. 2\n2. 5\n\n\n",
            "text/html": [
              "<style>\n",
              ".list-inline {list-style: none; margin:0; padding: 0}\n",
              ".list-inline>li {display: inline-block}\n",
              ".list-inline>li:not(:last-child)::after {content: \"\\00b7\"; padding: 0 .5ex}\n",
              "</style>\n",
              "<ol class=list-inline><li>2</li><li>5</li></ol>\n"
            ]
          },
          "metadata": {
            "tags": []
          }
        }
      ]
    },
    {
      "cell_type": "code",
      "metadata": {
        "colab": {
          "base_uri": "https://localhost:8080/",
          "height": 34
        },
        "id": "8hX8eKZjRQZE",
        "outputId": "8b8f88ca-c898-46b4-9f61-b872fcd6232d"
      },
      "source": [
        "j[,2]"
      ],
      "execution_count": 42,
      "outputs": [
        {
          "output_type": "display_data",
          "data": {
            "text/plain": [
              "[1] 4 5 6"
            ],
            "text/latex": "\\begin{enumerate*}\n\\item 4\n\\item 5\n\\item 6\n\\end{enumerate*}\n",
            "text/markdown": "1. 4\n2. 5\n3. 6\n\n\n",
            "text/html": [
              "<style>\n",
              ".list-inline {list-style: none; margin:0; padding: 0}\n",
              ".list-inline>li {display: inline-block}\n",
              ".list-inline>li:not(:last-child)::after {content: \"\\00b7\"; padding: 0 .5ex}\n",
              "</style>\n",
              "<ol class=list-inline><li>4</li><li>5</li><li>6</li></ol>\n"
            ]
          },
          "metadata": {
            "tags": []
          }
        }
      ]
    },
    {
      "cell_type": "code",
      "metadata": {
        "colab": {
          "base_uri": "https://localhost:8080/",
          "height": 34
        },
        "id": "0dJFmwP1RXld",
        "outputId": "3fb28191-9982-4e94-882b-725fb739b25d"
      },
      "source": [
        "k[2,2]"
      ],
      "execution_count": 43,
      "outputs": [
        {
          "output_type": "display_data",
          "data": {
            "text/plain": [
              "[1] 10"
            ],
            "text/latex": "10",
            "text/markdown": "10",
            "text/html": [
              "10"
            ]
          },
          "metadata": {
            "tags": []
          }
        }
      ]
    },
    {
      "cell_type": "code",
      "metadata": {
        "colab": {
          "base_uri": "https://localhost:8080/",
          "height": 34
        },
        "id": "cBNOScFORbtG",
        "outputId": "e0e05fcb-eac4-4a24-c49e-350404343586"
      },
      "source": [
        "k[2,]"
      ],
      "execution_count": 44,
      "outputs": [
        {
          "output_type": "display_data",
          "data": {
            "text/plain": [
              "[1]  8 10 12"
            ],
            "text/latex": "\\begin{enumerate*}\n\\item 8\n\\item 10\n\\item 12\n\\end{enumerate*}\n",
            "text/markdown": "1. 8\n2. 10\n3. 12\n\n\n",
            "text/html": [
              "<style>\n",
              ".list-inline {list-style: none; margin:0; padding: 0}\n",
              ".list-inline>li {display: inline-block}\n",
              ".list-inline>li:not(:last-child)::after {content: \"\\00b7\"; padding: 0 .5ex}\n",
              "</style>\n",
              "<ol class=list-inline><li>8</li><li>10</li><li>12</li></ol>\n"
            ]
          },
          "metadata": {
            "tags": []
          }
        }
      ]
    },
    {
      "cell_type": "code",
      "metadata": {
        "colab": {
          "base_uri": "https://localhost:8080/",
          "height": 34
        },
        "id": "Sa1FiuyxRiho",
        "outputId": "d69ab11c-b14d-4085-e94e-afb34fee827c"
      },
      "source": [
        "k[,2]"
      ],
      "execution_count": 46,
      "outputs": [
        {
          "output_type": "display_data",
          "data": {
            "text/plain": [
              "[1]  9 10"
            ],
            "text/latex": "\\begin{enumerate*}\n\\item 9\n\\item 10\n\\end{enumerate*}\n",
            "text/markdown": "1. 9\n2. 10\n\n\n",
            "text/html": [
              "<style>\n",
              ".list-inline {list-style: none; margin:0; padding: 0}\n",
              ".list-inline>li {display: inline-block}\n",
              ".list-inline>li:not(:last-child)::after {content: \"\\00b7\"; padding: 0 .5ex}\n",
              "</style>\n",
              "<ol class=list-inline><li>9</li><li>10</li></ol>\n"
            ]
          },
          "metadata": {
            "tags": []
          }
        }
      ]
    },
    {
      "cell_type": "code",
      "metadata": {
        "colab": {
          "base_uri": "https://localhost:8080/"
        },
        "id": "J38v8ivuRmpj",
        "outputId": "79ae7eb8-8e60-48f7-bad3-749ae892a244"
      },
      "source": [
        "install.packages(\"SportsAnalytics\")"
      ],
      "execution_count": 50,
      "outputs": [
        {
          "output_type": "stream",
          "text": [
            "Installing package into ‘/usr/local/lib/R/site-library’\n",
            "(as ‘lib’ is unspecified)\n",
            "\n"
          ],
          "name": "stderr"
        }
      ]
    },
    {
      "cell_type": "code",
      "metadata": {
        "id": "7ucHsXhjSUcC"
      },
      "source": [
        "library(\"SportsAnalytics\")"
      ],
      "execution_count": 51,
      "outputs": []
    },
    {
      "cell_type": "code",
      "metadata": {
        "id": "5MTFEuynSqeR"
      },
      "source": [
        "NBA1516 <- fetch_NBAPlayerStatistics(\"15-16\")"
      ],
      "execution_count": 52,
      "outputs": []
    },
    {
      "cell_type": "code",
      "metadata": {
        "colab": {
          "base_uri": "https://localhost:8080/"
        },
        "id": "f1p8fhK8S66k",
        "outputId": "8941ff87-d7ff-4af2-f3da-4d213b4c1f17"
      },
      "source": [
        "str(NBA1516)"
      ],
      "execution_count": 56,
      "outputs": [
        {
          "output_type": "stream",
          "text": [
            "'data.frame':\t476 obs. of  25 variables:\n",
            " $ League             : Factor w/ 1 level \"NBA\": 1 1 1 1 1 1 1 1 1 1 ...\n",
            " $ Name               : chr  \"Quincy Acy\" \"Jordan Adams\" \"Steven Adams\" \"Arron Afflalo\" ...\n",
            " $ Team               : Factor w/ 31 levels \"ATL\",\"BOS\",\"BRO\",..: 27 15 22 20 19 13 28 26 12 15 ...\n",
            " $ Position           : Factor w/ 5 levels \"C\",\"PF\",\"PG\",..: 4 5 1 5 1 1 2 2 2 5 ...\n",
            " $ GamesPlayed        : int  59 2 80 71 59 60 74 9 79 64 ...\n",
            " $ TotalMinutesPlayed : int  877 15 2019 2359 863 802 2260 37 1601 1622 ...\n",
            " $ FieldGoalsMade     : int  119 2 261 354 150 134 536 5 191 215 ...\n",
            " $ FieldGoalsAttempted: int  214 6 426 799 314 225 1045 10 370 469 ...\n",
            " $ ThreesMade         : int  19 0 0 91 0 0 0 0 0 15 ...\n",
            " $ ThreesAttempted    : int  49 1 0 238 1 0 16 0 0 42 ...\n",
            " $ FreeThrowsMade     : int  50 3 114 110 52 60 259 0 46 90 ...\n",
            " $ FreeThrowsAttempted: int  68 5 196 131 62 84 302 0 73 138 ...\n",
            " $ OffensiveRebounds  : int  65 0 218 23 75 86 175 2 162 104 ...\n",
            " $ TotalRebounds      : int  188 2 531 266 269 288 631 6 424 297 ...\n",
            " $ Assists            : int  27 3 61 145 32 50 110 0 76 70 ...\n",
            " $ Steals             : int  29 3 42 25 19 47 38 1 26 109 ...\n",
            " $ Turnovers          : int  27 2 84 82 54 64 99 1 69 78 ...\n",
            " $ Blocks             : int  24 0 89 10 36 68 81 2 42 18 ...\n",
            " $ PersonalFouls      : int  103 2 223 142 134 139 151 1 147 175 ...\n",
            " $ Disqualifications  : int  0 0 2 1 0 1 0 0 1 1 ...\n",
            " $ TotalPoints        : int  307 7 636 909 352 328 1331 10 428 535 ...\n",
            " $ Technicals         : int  3 0 2 1 2 0 0 0 0 1 ...\n",
            " $ Ejections          : int  0 0 0 0 0 0 0 0 0 0 ...\n",
            " $ FlagrantFouls      : int  0 0 0 0 0 0 0 0 0 0 ...\n",
            " $ GamesStarted       : int  29 0 80 57 17 5 74 0 28 56 ...\n"
          ],
          "name": "stdout"
        }
      ]
    },
    {
      "cell_type": "code",
      "metadata": {
        "colab": {
          "base_uri": "https://localhost:8080/",
          "height": 392
        },
        "id": "hQetmMc2TJFk",
        "outputId": "55594519-2ff8-46f3-a68d-2aa09aed3a05"
      },
      "source": [
        "head(NBA1516)"
      ],
      "execution_count": 57,
      "outputs": [
        {
          "output_type": "display_data",
          "data": {
            "text/plain": [
              "  League Name          Team Position GamesPlayed TotalMinutesPlayed\n",
              "1 NBA    Quincy Acy    SAC  SF       59           877              \n",
              "2 NBA    Jordan Adams  MEM  SG        2            15              \n",
              "3 NBA    Steven Adams  OKL  C        80          2019              \n",
              "4 NBA    Arron Afflalo NYK  SG       71          2359              \n",
              "5 NBA    Alexis Ajinca NOR  C        59           863              \n",
              "6 NBA    Cole Aldrich  LAC  C        60           802              \n",
              "  FieldGoalsMade FieldGoalsAttempted ThreesMade ThreesAttempted ⋯ Steals\n",
              "1 119            214                 19          49             ⋯ 29    \n",
              "2   2              6                  0           1             ⋯  3    \n",
              "3 261            426                  0           0             ⋯ 42    \n",
              "4 354            799                 91         238             ⋯ 25    \n",
              "5 150            314                  0           1             ⋯ 19    \n",
              "6 134            225                  0           0             ⋯ 47    \n",
              "  Turnovers Blocks PersonalFouls Disqualifications TotalPoints Technicals\n",
              "1 27        24     103           0                 307         3         \n",
              "2  2         0       2           0                   7         0         \n",
              "3 84        89     223           2                 636         2         \n",
              "4 82        10     142           1                 909         1         \n",
              "5 54        36     134           0                 352         2         \n",
              "6 64        68     139           1                 328         0         \n",
              "  Ejections FlagrantFouls GamesStarted\n",
              "1 0         0             29          \n",
              "2 0         0              0          \n",
              "3 0         0             80          \n",
              "4 0         0             57          \n",
              "5 0         0             17          \n",
              "6 0         0              5          "
            ],
            "text/latex": "A data.frame: 6 × 25\n\\begin{tabular}{r|lllllllllllllllllllll}\n  & League & Name & Team & Position & GamesPlayed & TotalMinutesPlayed & FieldGoalsMade & FieldGoalsAttempted & ThreesMade & ThreesAttempted & ⋯ & Steals & Turnovers & Blocks & PersonalFouls & Disqualifications & TotalPoints & Technicals & Ejections & FlagrantFouls & GamesStarted\\\\\n  & <fct> & <chr> & <fct> & <fct> & <int> & <int> & <int> & <int> & <int> & <int> & ⋯ & <int> & <int> & <int> & <int> & <int> & <int> & <int> & <int> & <int> & <int>\\\\\n\\hline\n\t1 & NBA & Quincy Acy    & SAC & SF & 59 &  877 & 119 & 214 & 19 &  49 & ⋯ & 29 & 27 & 24 & 103 & 0 & 307 & 3 & 0 & 0 & 29\\\\\n\t2 & NBA & Jordan Adams  & MEM & SG &  2 &   15 &   2 &   6 &  0 &   1 & ⋯ &  3 &  2 &  0 &   2 & 0 &   7 & 0 & 0 & 0 &  0\\\\\n\t3 & NBA & Steven Adams  & OKL & C  & 80 & 2019 & 261 & 426 &  0 &   0 & ⋯ & 42 & 84 & 89 & 223 & 2 & 636 & 2 & 0 & 0 & 80\\\\\n\t4 & NBA & Arron Afflalo & NYK & SG & 71 & 2359 & 354 & 799 & 91 & 238 & ⋯ & 25 & 82 & 10 & 142 & 1 & 909 & 1 & 0 & 0 & 57\\\\\n\t5 & NBA & Alexis Ajinca & NOR & C  & 59 &  863 & 150 & 314 &  0 &   1 & ⋯ & 19 & 54 & 36 & 134 & 0 & 352 & 2 & 0 & 0 & 17\\\\\n\t6 & NBA & Cole Aldrich  & LAC & C  & 60 &  802 & 134 & 225 &  0 &   0 & ⋯ & 47 & 64 & 68 & 139 & 1 & 328 & 0 & 0 & 0 &  5\\\\\n\\end{tabular}\n",
            "text/markdown": "\nA data.frame: 6 × 25\n\n| <!--/--> | League &lt;fct&gt; | Name &lt;chr&gt; | Team &lt;fct&gt; | Position &lt;fct&gt; | GamesPlayed &lt;int&gt; | TotalMinutesPlayed &lt;int&gt; | FieldGoalsMade &lt;int&gt; | FieldGoalsAttempted &lt;int&gt; | ThreesMade &lt;int&gt; | ThreesAttempted &lt;int&gt; | ⋯ ⋯ | Steals &lt;int&gt; | Turnovers &lt;int&gt; | Blocks &lt;int&gt; | PersonalFouls &lt;int&gt; | Disqualifications &lt;int&gt; | TotalPoints &lt;int&gt; | Technicals &lt;int&gt; | Ejections &lt;int&gt; | FlagrantFouls &lt;int&gt; | GamesStarted &lt;int&gt; |\n|---|---|---|---|---|---|---|---|---|---|---|---|---|---|---|---|---|---|---|---|---|---|\n| 1 | NBA | Quincy Acy    | SAC | SF | 59 |  877 | 119 | 214 | 19 |  49 | ⋯ | 29 | 27 | 24 | 103 | 0 | 307 | 3 | 0 | 0 | 29 |\n| 2 | NBA | Jordan Adams  | MEM | SG |  2 |   15 |   2 |   6 |  0 |   1 | ⋯ |  3 |  2 |  0 |   2 | 0 |   7 | 0 | 0 | 0 |  0 |\n| 3 | NBA | Steven Adams  | OKL | C  | 80 | 2019 | 261 | 426 |  0 |   0 | ⋯ | 42 | 84 | 89 | 223 | 2 | 636 | 2 | 0 | 0 | 80 |\n| 4 | NBA | Arron Afflalo | NYK | SG | 71 | 2359 | 354 | 799 | 91 | 238 | ⋯ | 25 | 82 | 10 | 142 | 1 | 909 | 1 | 0 | 0 | 57 |\n| 5 | NBA | Alexis Ajinca | NOR | C  | 59 |  863 | 150 | 314 |  0 |   1 | ⋯ | 19 | 54 | 36 | 134 | 0 | 352 | 2 | 0 | 0 | 17 |\n| 6 | NBA | Cole Aldrich  | LAC | C  | 60 |  802 | 134 | 225 |  0 |   0 | ⋯ | 47 | 64 | 68 | 139 | 1 | 328 | 0 | 0 | 0 |  5 |\n\n",
            "text/html": [
              "<table class=\"dataframe\">\n",
              "<caption>A data.frame: 6 × 25</caption>\n",
              "<thead>\n",
              "\t<tr><th></th><th scope=col>League</th><th scope=col>Name</th><th scope=col>Team</th><th scope=col>Position</th><th scope=col>GamesPlayed</th><th scope=col>TotalMinutesPlayed</th><th scope=col>FieldGoalsMade</th><th scope=col>FieldGoalsAttempted</th><th scope=col>ThreesMade</th><th scope=col>ThreesAttempted</th><th scope=col>⋯</th><th scope=col>Steals</th><th scope=col>Turnovers</th><th scope=col>Blocks</th><th scope=col>PersonalFouls</th><th scope=col>Disqualifications</th><th scope=col>TotalPoints</th><th scope=col>Technicals</th><th scope=col>Ejections</th><th scope=col>FlagrantFouls</th><th scope=col>GamesStarted</th></tr>\n",
              "\t<tr><th></th><th scope=col>&lt;fct&gt;</th><th scope=col>&lt;chr&gt;</th><th scope=col>&lt;fct&gt;</th><th scope=col>&lt;fct&gt;</th><th scope=col>&lt;int&gt;</th><th scope=col>&lt;int&gt;</th><th scope=col>&lt;int&gt;</th><th scope=col>&lt;int&gt;</th><th scope=col>&lt;int&gt;</th><th scope=col>&lt;int&gt;</th><th scope=col>⋯</th><th scope=col>&lt;int&gt;</th><th scope=col>&lt;int&gt;</th><th scope=col>&lt;int&gt;</th><th scope=col>&lt;int&gt;</th><th scope=col>&lt;int&gt;</th><th scope=col>&lt;int&gt;</th><th scope=col>&lt;int&gt;</th><th scope=col>&lt;int&gt;</th><th scope=col>&lt;int&gt;</th><th scope=col>&lt;int&gt;</th></tr>\n",
              "</thead>\n",
              "<tbody>\n",
              "\t<tr><th scope=row>1</th><td>NBA</td><td>Quincy Acy   </td><td>SAC</td><td>SF</td><td>59</td><td> 877</td><td>119</td><td>214</td><td>19</td><td> 49</td><td>⋯</td><td>29</td><td>27</td><td>24</td><td>103</td><td>0</td><td>307</td><td>3</td><td>0</td><td>0</td><td>29</td></tr>\n",
              "\t<tr><th scope=row>2</th><td>NBA</td><td>Jordan Adams </td><td>MEM</td><td>SG</td><td> 2</td><td>  15</td><td>  2</td><td>  6</td><td> 0</td><td>  1</td><td>⋯</td><td> 3</td><td> 2</td><td> 0</td><td>  2</td><td>0</td><td>  7</td><td>0</td><td>0</td><td>0</td><td> 0</td></tr>\n",
              "\t<tr><th scope=row>3</th><td>NBA</td><td>Steven Adams </td><td>OKL</td><td>C </td><td>80</td><td>2019</td><td>261</td><td>426</td><td> 0</td><td>  0</td><td>⋯</td><td>42</td><td>84</td><td>89</td><td>223</td><td>2</td><td>636</td><td>2</td><td>0</td><td>0</td><td>80</td></tr>\n",
              "\t<tr><th scope=row>4</th><td>NBA</td><td>Arron Afflalo</td><td>NYK</td><td>SG</td><td>71</td><td>2359</td><td>354</td><td>799</td><td>91</td><td>238</td><td>⋯</td><td>25</td><td>82</td><td>10</td><td>142</td><td>1</td><td>909</td><td>1</td><td>0</td><td>0</td><td>57</td></tr>\n",
              "\t<tr><th scope=row>5</th><td>NBA</td><td>Alexis Ajinca</td><td>NOR</td><td>C </td><td>59</td><td> 863</td><td>150</td><td>314</td><td> 0</td><td>  1</td><td>⋯</td><td>19</td><td>54</td><td>36</td><td>134</td><td>0</td><td>352</td><td>2</td><td>0</td><td>0</td><td>17</td></tr>\n",
              "\t<tr><th scope=row>6</th><td>NBA</td><td>Cole Aldrich </td><td>LAC</td><td>C </td><td>60</td><td> 802</td><td>134</td><td>225</td><td> 0</td><td>  0</td><td>⋯</td><td>47</td><td>64</td><td>68</td><td>139</td><td>1</td><td>328</td><td>0</td><td>0</td><td>0</td><td> 5</td></tr>\n",
              "</tbody>\n",
              "</table>\n"
            ]
          },
          "metadata": {
            "tags": []
          }
        }
      ]
    },
    {
      "cell_type": "code",
      "metadata": {
        "colab": {
          "base_uri": "https://localhost:8080/",
          "height": 642
        },
        "id": "RIDIj15ETcAy",
        "outputId": "bb8ac6ad-46e6-4770-d03f-cc8897b15a83"
      },
      "source": [
        "subset(NBA1516, Team==\"LAC\")"
      ],
      "execution_count": 59,
      "outputs": [
        {
          "output_type": "display_data",
          "data": {
            "text/plain": [
              "    League Name             Team Position GamesPlayed TotalMinutesPlayed\n",
              "6   NBA    Cole Aldrich     LAC  C        60           802              \n",
              "29  NBA    Jeff Ayres       LAC  PF       16            95              \n",
              "101 NBA    Jamal Crawford   LAC  SG       79          2126              \n",
              "110 NBA    Branden Dawson   LAC  SF        6            28              \n",
              "171 NBA    Jeff Green       LAC  SF       80          2258              \n",
              "172 NBA    Blake Griffin    LAC  PF       35          1171              \n",
              "236 NBA    Wesley Johnson   LAC  SG       80          1664              \n",
              "242 NBA    Deandre Jordan   LAC  C        77          2600              \n",
              "285 NBA    Luc Mbah_a_moute LAC  SF       75          1278              \n",
              "349 NBA    Chris Paul       LAC  PG       74          2425              \n",
              "355 NBA    Paul Pierce      LAC  SF       68          1235              \n",
              "366 NBA    Pablo Prigioni   LAC  PG       59           816              \n",
              "370 NBA    J.j. Redick      LAC  SG       75          2098              \n",
              "373 NBA    Austin Rivers    LAC  SG       67          1466              \n",
              "457 NBA    C.j. Wilcox      LAC  SG       23           168              \n",
              "    FieldGoalsMade FieldGoalsAttempted ThreesMade ThreesAttempted ⋯ Steals\n",
              "6   134             225                  0          0             ⋯  47   \n",
              "29   10              21                  0          1             ⋯   0   \n",
              "101 379             940                117        345             ⋯  52   \n",
              "110   2               5                  0          0             ⋯   0   \n",
              "171 354             824                 67        213             ⋯  58   \n",
              "172 301             604                  6         18             ⋯  28   \n",
              "236 208             515                103        309             ⋯  89   \n",
              "242 357             507                  0          1             ⋯  52   \n",
              "285  94             207                 13         40             ⋯  44   \n",
              "349 515            1114                122        329             ⋯ 151   \n",
              "355 144             397                 75        242             ⋯  33   \n",
              "366  55             147                 28         95             ⋯  53   \n",
              "370 422             880                200        420             ⋯  42   \n",
              "373 226             516                 62        185             ⋯  48   \n",
              "457  26              66                  9         23             ⋯  10   \n",
              "    Turnovers Blocks PersonalFouls Disqualifications TotalPoints Technicals\n",
              "6    64        68    139           1                  328         0        \n",
              "29    5         0     16           0                   24         0        \n",
              "101 113        12    122           0                 1120         3        \n",
              "110   0         1      2           0                    5         0        \n",
              "171  93        40    164           0                  939         0        \n",
              "172  83        17     95           0                  749         7        \n",
              "236  54        56    173           1                  549         0        \n",
              "242 107       176    207           1                  980        10        \n",
              "285  34        19    100           0                  231         0        \n",
              "349 193        13    185           0                 1446         7        \n",
              "355  58        17    129           0                  417         1        \n",
              "366  49         1     82           0                  145         0        \n",
              "370  79         5    135           0                 1226         1        \n",
              "373  61        10    137           1                  593         2        \n",
              "457   2         2     15           0                   70         0        \n",
              "    Ejections FlagrantFouls GamesStarted\n",
              "6   0         0              5          \n",
              "29  0         0              0          \n",
              "101 0         0              5          \n",
              "110 0         0              0          \n",
              "171 0         0             41          \n",
              "172 0         0             35          \n",
              "236 0         0              9          \n",
              "242 0         0             77          \n",
              "285 0         0             61          \n",
              "349 0         0             74          \n",
              "355 0         0             38          \n",
              "366 0         0              3          \n",
              "370 0         0             75          \n",
              "373 0         0              7          \n",
              "457 0         0              0          "
            ],
            "text/latex": "A data.frame: 15 × 25\n\\begin{tabular}{r|lllllllllllllllllllll}\n  & League & Name & Team & Position & GamesPlayed & TotalMinutesPlayed & FieldGoalsMade & FieldGoalsAttempted & ThreesMade & ThreesAttempted & ⋯ & Steals & Turnovers & Blocks & PersonalFouls & Disqualifications & TotalPoints & Technicals & Ejections & FlagrantFouls & GamesStarted\\\\\n  & <fct> & <chr> & <fct> & <fct> & <int> & <int> & <int> & <int> & <int> & <int> & ⋯ & <int> & <int> & <int> & <int> & <int> & <int> & <int> & <int> & <int> & <int>\\\\\n\\hline\n\t6 & NBA & Cole Aldrich     & LAC & C  & 60 &  802 & 134 &  225 &   0 &   0 & ⋯ &  47 &  64 &  68 & 139 & 1 &  328 &  0 & 0 & 0 &  5\\\\\n\t29 & NBA & Jeff Ayres       & LAC & PF & 16 &   95 &  10 &   21 &   0 &   1 & ⋯ &   0 &   5 &   0 &  16 & 0 &   24 &  0 & 0 & 0 &  0\\\\\n\t101 & NBA & Jamal Crawford   & LAC & SG & 79 & 2126 & 379 &  940 & 117 & 345 & ⋯ &  52 & 113 &  12 & 122 & 0 & 1120 &  3 & 0 & 0 &  5\\\\\n\t110 & NBA & Branden Dawson   & LAC & SF &  6 &   28 &   2 &    5 &   0 &   0 & ⋯ &   0 &   0 &   1 &   2 & 0 &    5 &  0 & 0 & 0 &  0\\\\\n\t171 & NBA & Jeff Green       & LAC & SF & 80 & 2258 & 354 &  824 &  67 & 213 & ⋯ &  58 &  93 &  40 & 164 & 0 &  939 &  0 & 0 & 0 & 41\\\\\n\t172 & NBA & Blake Griffin    & LAC & PF & 35 & 1171 & 301 &  604 &   6 &  18 & ⋯ &  28 &  83 &  17 &  95 & 0 &  749 &  7 & 0 & 0 & 35\\\\\n\t236 & NBA & Wesley Johnson   & LAC & SG & 80 & 1664 & 208 &  515 & 103 & 309 & ⋯ &  89 &  54 &  56 & 173 & 1 &  549 &  0 & 0 & 0 &  9\\\\\n\t242 & NBA & Deandre Jordan   & LAC & C  & 77 & 2600 & 357 &  507 &   0 &   1 & ⋯ &  52 & 107 & 176 & 207 & 1 &  980 & 10 & 0 & 0 & 77\\\\\n\t285 & NBA & Luc Mbah\\_a\\_moute & LAC & SF & 75 & 1278 &  94 &  207 &  13 &  40 & ⋯ &  44 &  34 &  19 & 100 & 0 &  231 &  0 & 0 & 0 & 61\\\\\n\t349 & NBA & Chris Paul       & LAC & PG & 74 & 2425 & 515 & 1114 & 122 & 329 & ⋯ & 151 & 193 &  13 & 185 & 0 & 1446 &  7 & 0 & 0 & 74\\\\\n\t355 & NBA & Paul Pierce      & LAC & SF & 68 & 1235 & 144 &  397 &  75 & 242 & ⋯ &  33 &  58 &  17 & 129 & 0 &  417 &  1 & 0 & 0 & 38\\\\\n\t366 & NBA & Pablo Prigioni   & LAC & PG & 59 &  816 &  55 &  147 &  28 &  95 & ⋯ &  53 &  49 &   1 &  82 & 0 &  145 &  0 & 0 & 0 &  3\\\\\n\t370 & NBA & J.j. Redick      & LAC & SG & 75 & 2098 & 422 &  880 & 200 & 420 & ⋯ &  42 &  79 &   5 & 135 & 0 & 1226 &  1 & 0 & 0 & 75\\\\\n\t373 & NBA & Austin Rivers    & LAC & SG & 67 & 1466 & 226 &  516 &  62 & 185 & ⋯ &  48 &  61 &  10 & 137 & 1 &  593 &  2 & 0 & 0 &  7\\\\\n\t457 & NBA & C.j. Wilcox      & LAC & SG & 23 &  168 &  26 &   66 &   9 &  23 & ⋯ &  10 &   2 &   2 &  15 & 0 &   70 &  0 & 0 & 0 &  0\\\\\n\\end{tabular}\n",
            "text/markdown": "\nA data.frame: 15 × 25\n\n| <!--/--> | League &lt;fct&gt; | Name &lt;chr&gt; | Team &lt;fct&gt; | Position &lt;fct&gt; | GamesPlayed &lt;int&gt; | TotalMinutesPlayed &lt;int&gt; | FieldGoalsMade &lt;int&gt; | FieldGoalsAttempted &lt;int&gt; | ThreesMade &lt;int&gt; | ThreesAttempted &lt;int&gt; | ⋯ ⋯ | Steals &lt;int&gt; | Turnovers &lt;int&gt; | Blocks &lt;int&gt; | PersonalFouls &lt;int&gt; | Disqualifications &lt;int&gt; | TotalPoints &lt;int&gt; | Technicals &lt;int&gt; | Ejections &lt;int&gt; | FlagrantFouls &lt;int&gt; | GamesStarted &lt;int&gt; |\n|---|---|---|---|---|---|---|---|---|---|---|---|---|---|---|---|---|---|---|---|---|---|\n| 6 | NBA | Cole Aldrich     | LAC | C  | 60 |  802 | 134 |  225 |   0 |   0 | ⋯ |  47 |  64 |  68 | 139 | 1 |  328 |  0 | 0 | 0 |  5 |\n| 29 | NBA | Jeff Ayres       | LAC | PF | 16 |   95 |  10 |   21 |   0 |   1 | ⋯ |   0 |   5 |   0 |  16 | 0 |   24 |  0 | 0 | 0 |  0 |\n| 101 | NBA | Jamal Crawford   | LAC | SG | 79 | 2126 | 379 |  940 | 117 | 345 | ⋯ |  52 | 113 |  12 | 122 | 0 | 1120 |  3 | 0 | 0 |  5 |\n| 110 | NBA | Branden Dawson   | LAC | SF |  6 |   28 |   2 |    5 |   0 |   0 | ⋯ |   0 |   0 |   1 |   2 | 0 |    5 |  0 | 0 | 0 |  0 |\n| 171 | NBA | Jeff Green       | LAC | SF | 80 | 2258 | 354 |  824 |  67 | 213 | ⋯ |  58 |  93 |  40 | 164 | 0 |  939 |  0 | 0 | 0 | 41 |\n| 172 | NBA | Blake Griffin    | LAC | PF | 35 | 1171 | 301 |  604 |   6 |  18 | ⋯ |  28 |  83 |  17 |  95 | 0 |  749 |  7 | 0 | 0 | 35 |\n| 236 | NBA | Wesley Johnson   | LAC | SG | 80 | 1664 | 208 |  515 | 103 | 309 | ⋯ |  89 |  54 |  56 | 173 | 1 |  549 |  0 | 0 | 0 |  9 |\n| 242 | NBA | Deandre Jordan   | LAC | C  | 77 | 2600 | 357 |  507 |   0 |   1 | ⋯ |  52 | 107 | 176 | 207 | 1 |  980 | 10 | 0 | 0 | 77 |\n| 285 | NBA | Luc Mbah_a_moute | LAC | SF | 75 | 1278 |  94 |  207 |  13 |  40 | ⋯ |  44 |  34 |  19 | 100 | 0 |  231 |  0 | 0 | 0 | 61 |\n| 349 | NBA | Chris Paul       | LAC | PG | 74 | 2425 | 515 | 1114 | 122 | 329 | ⋯ | 151 | 193 |  13 | 185 | 0 | 1446 |  7 | 0 | 0 | 74 |\n| 355 | NBA | Paul Pierce      | LAC | SF | 68 | 1235 | 144 |  397 |  75 | 242 | ⋯ |  33 |  58 |  17 | 129 | 0 |  417 |  1 | 0 | 0 | 38 |\n| 366 | NBA | Pablo Prigioni   | LAC | PG | 59 |  816 |  55 |  147 |  28 |  95 | ⋯ |  53 |  49 |   1 |  82 | 0 |  145 |  0 | 0 | 0 |  3 |\n| 370 | NBA | J.j. Redick      | LAC | SG | 75 | 2098 | 422 |  880 | 200 | 420 | ⋯ |  42 |  79 |   5 | 135 | 0 | 1226 |  1 | 0 | 0 | 75 |\n| 373 | NBA | Austin Rivers    | LAC | SG | 67 | 1466 | 226 |  516 |  62 | 185 | ⋯ |  48 |  61 |  10 | 137 | 1 |  593 |  2 | 0 | 0 |  7 |\n| 457 | NBA | C.j. Wilcox      | LAC | SG | 23 |  168 |  26 |   66 |   9 |  23 | ⋯ |  10 |   2 |   2 |  15 | 0 |   70 |  0 | 0 | 0 |  0 |\n\n",
            "text/html": [
              "<table class=\"dataframe\">\n",
              "<caption>A data.frame: 15 × 25</caption>\n",
              "<thead>\n",
              "\t<tr><th></th><th scope=col>League</th><th scope=col>Name</th><th scope=col>Team</th><th scope=col>Position</th><th scope=col>GamesPlayed</th><th scope=col>TotalMinutesPlayed</th><th scope=col>FieldGoalsMade</th><th scope=col>FieldGoalsAttempted</th><th scope=col>ThreesMade</th><th scope=col>ThreesAttempted</th><th scope=col>⋯</th><th scope=col>Steals</th><th scope=col>Turnovers</th><th scope=col>Blocks</th><th scope=col>PersonalFouls</th><th scope=col>Disqualifications</th><th scope=col>TotalPoints</th><th scope=col>Technicals</th><th scope=col>Ejections</th><th scope=col>FlagrantFouls</th><th scope=col>GamesStarted</th></tr>\n",
              "\t<tr><th></th><th scope=col>&lt;fct&gt;</th><th scope=col>&lt;chr&gt;</th><th scope=col>&lt;fct&gt;</th><th scope=col>&lt;fct&gt;</th><th scope=col>&lt;int&gt;</th><th scope=col>&lt;int&gt;</th><th scope=col>&lt;int&gt;</th><th scope=col>&lt;int&gt;</th><th scope=col>&lt;int&gt;</th><th scope=col>&lt;int&gt;</th><th scope=col>⋯</th><th scope=col>&lt;int&gt;</th><th scope=col>&lt;int&gt;</th><th scope=col>&lt;int&gt;</th><th scope=col>&lt;int&gt;</th><th scope=col>&lt;int&gt;</th><th scope=col>&lt;int&gt;</th><th scope=col>&lt;int&gt;</th><th scope=col>&lt;int&gt;</th><th scope=col>&lt;int&gt;</th><th scope=col>&lt;int&gt;</th></tr>\n",
              "</thead>\n",
              "<tbody>\n",
              "\t<tr><th scope=row>6</th><td>NBA</td><td>Cole Aldrich    </td><td>LAC</td><td>C </td><td>60</td><td> 802</td><td>134</td><td> 225</td><td>  0</td><td>  0</td><td>⋯</td><td> 47</td><td> 64</td><td> 68</td><td>139</td><td>1</td><td> 328</td><td> 0</td><td>0</td><td>0</td><td> 5</td></tr>\n",
              "\t<tr><th scope=row>29</th><td>NBA</td><td>Jeff Ayres      </td><td>LAC</td><td>PF</td><td>16</td><td>  95</td><td> 10</td><td>  21</td><td>  0</td><td>  1</td><td>⋯</td><td>  0</td><td>  5</td><td>  0</td><td> 16</td><td>0</td><td>  24</td><td> 0</td><td>0</td><td>0</td><td> 0</td></tr>\n",
              "\t<tr><th scope=row>101</th><td>NBA</td><td>Jamal Crawford  </td><td>LAC</td><td>SG</td><td>79</td><td>2126</td><td>379</td><td> 940</td><td>117</td><td>345</td><td>⋯</td><td> 52</td><td>113</td><td> 12</td><td>122</td><td>0</td><td>1120</td><td> 3</td><td>0</td><td>0</td><td> 5</td></tr>\n",
              "\t<tr><th scope=row>110</th><td>NBA</td><td>Branden Dawson  </td><td>LAC</td><td>SF</td><td> 6</td><td>  28</td><td>  2</td><td>   5</td><td>  0</td><td>  0</td><td>⋯</td><td>  0</td><td>  0</td><td>  1</td><td>  2</td><td>0</td><td>   5</td><td> 0</td><td>0</td><td>0</td><td> 0</td></tr>\n",
              "\t<tr><th scope=row>171</th><td>NBA</td><td>Jeff Green      </td><td>LAC</td><td>SF</td><td>80</td><td>2258</td><td>354</td><td> 824</td><td> 67</td><td>213</td><td>⋯</td><td> 58</td><td> 93</td><td> 40</td><td>164</td><td>0</td><td> 939</td><td> 0</td><td>0</td><td>0</td><td>41</td></tr>\n",
              "\t<tr><th scope=row>172</th><td>NBA</td><td>Blake Griffin   </td><td>LAC</td><td>PF</td><td>35</td><td>1171</td><td>301</td><td> 604</td><td>  6</td><td> 18</td><td>⋯</td><td> 28</td><td> 83</td><td> 17</td><td> 95</td><td>0</td><td> 749</td><td> 7</td><td>0</td><td>0</td><td>35</td></tr>\n",
              "\t<tr><th scope=row>236</th><td>NBA</td><td>Wesley Johnson  </td><td>LAC</td><td>SG</td><td>80</td><td>1664</td><td>208</td><td> 515</td><td>103</td><td>309</td><td>⋯</td><td> 89</td><td> 54</td><td> 56</td><td>173</td><td>1</td><td> 549</td><td> 0</td><td>0</td><td>0</td><td> 9</td></tr>\n",
              "\t<tr><th scope=row>242</th><td>NBA</td><td>Deandre Jordan  </td><td>LAC</td><td>C </td><td>77</td><td>2600</td><td>357</td><td> 507</td><td>  0</td><td>  1</td><td>⋯</td><td> 52</td><td>107</td><td>176</td><td>207</td><td>1</td><td> 980</td><td>10</td><td>0</td><td>0</td><td>77</td></tr>\n",
              "\t<tr><th scope=row>285</th><td>NBA</td><td>Luc Mbah_a_moute</td><td>LAC</td><td>SF</td><td>75</td><td>1278</td><td> 94</td><td> 207</td><td> 13</td><td> 40</td><td>⋯</td><td> 44</td><td> 34</td><td> 19</td><td>100</td><td>0</td><td> 231</td><td> 0</td><td>0</td><td>0</td><td>61</td></tr>\n",
              "\t<tr><th scope=row>349</th><td>NBA</td><td>Chris Paul      </td><td>LAC</td><td>PG</td><td>74</td><td>2425</td><td>515</td><td>1114</td><td>122</td><td>329</td><td>⋯</td><td>151</td><td>193</td><td> 13</td><td>185</td><td>0</td><td>1446</td><td> 7</td><td>0</td><td>0</td><td>74</td></tr>\n",
              "\t<tr><th scope=row>355</th><td>NBA</td><td>Paul Pierce     </td><td>LAC</td><td>SF</td><td>68</td><td>1235</td><td>144</td><td> 397</td><td> 75</td><td>242</td><td>⋯</td><td> 33</td><td> 58</td><td> 17</td><td>129</td><td>0</td><td> 417</td><td> 1</td><td>0</td><td>0</td><td>38</td></tr>\n",
              "\t<tr><th scope=row>366</th><td>NBA</td><td>Pablo Prigioni  </td><td>LAC</td><td>PG</td><td>59</td><td> 816</td><td> 55</td><td> 147</td><td> 28</td><td> 95</td><td>⋯</td><td> 53</td><td> 49</td><td>  1</td><td> 82</td><td>0</td><td> 145</td><td> 0</td><td>0</td><td>0</td><td> 3</td></tr>\n",
              "\t<tr><th scope=row>370</th><td>NBA</td><td>J.j. Redick     </td><td>LAC</td><td>SG</td><td>75</td><td>2098</td><td>422</td><td> 880</td><td>200</td><td>420</td><td>⋯</td><td> 42</td><td> 79</td><td>  5</td><td>135</td><td>0</td><td>1226</td><td> 1</td><td>0</td><td>0</td><td>75</td></tr>\n",
              "\t<tr><th scope=row>373</th><td>NBA</td><td>Austin Rivers   </td><td>LAC</td><td>SG</td><td>67</td><td>1466</td><td>226</td><td> 516</td><td> 62</td><td>185</td><td>⋯</td><td> 48</td><td> 61</td><td> 10</td><td>137</td><td>1</td><td> 593</td><td> 2</td><td>0</td><td>0</td><td> 7</td></tr>\n",
              "\t<tr><th scope=row>457</th><td>NBA</td><td>C.j. Wilcox     </td><td>LAC</td><td>SG</td><td>23</td><td> 168</td><td> 26</td><td>  66</td><td>  9</td><td> 23</td><td>⋯</td><td> 10</td><td>  2</td><td>  2</td><td> 15</td><td>0</td><td>  70</td><td> 0</td><td>0</td><td>0</td><td> 0</td></tr>\n",
              "</tbody>\n",
              "</table>\n"
            ]
          },
          "metadata": {
            "tags": []
          }
        }
      ]
    },
    {
      "cell_type": "code",
      "metadata": {
        "colab": {
          "base_uri": "https://localhost:8080/",
          "height": 688
        },
        "id": "jsKNFURYW-sm",
        "outputId": "7cd1af38-9aab-472a-9718-c0faffc779d3"
      },
      "source": [
        "subset(NBA1516, Team==\"NYK\")"
      ],
      "execution_count": 67,
      "outputs": [
        {
          "output_type": "display_data",
          "data": {
            "text/plain": [
              "    League Name             Team Position GamesPlayed TotalMinutesPlayed\n",
              "4   NBA    Arron Afflalo    NYK  SG       71          2359              \n",
              "12  NBA    Lou Amundson     NYK  PF       29           199              \n",
              "20  NBA    Th Antetokounmpo NYK  SF        3             7              \n",
              "21  NBA    Carmelo Anthony  NYK  SF       72          2529              \n",
              "76  NBA    Jose Calderon    NYK  PG       72          2021              \n",
              "128 NBA    Cleanthony Early NYK  SF       17           155              \n",
              "145 NBA    Jimmer Fredette  NYK  PG        6            17              \n",
              "148 NBA    Langsto Galloway NYK  PG       82          2032              \n",
              "165 NBA    Jerian Grant     NYK  PG       76          1241              \n",
              "272 NBA    Robin Lopez      NYK  C        82          2213              \n",
              "337 NBA    Kyle O'quinn     NYK  PF       65           761              \n",
              "361 NBA    Krista Porzingis NYK  PF       72          2050              \n",
              "393 NBA    Kevin Seraphin   NYK  PF       48           530              \n",
              "423 NBA    Lance Thomas     NYK  SF       59          1323              \n",
              "443 NBA    Sasha Vujacic    NYK  SG       61           910              \n",
              "460 NBA    Derrick Williams NYK  PF       80          1442              \n",
              "    FieldGoalsMade FieldGoalsAttempted ThreesMade ThreesAttempted ⋯ Steals\n",
              "4   354             799                 91        238             ⋯ 25    \n",
              "12   19              52                  0          0             ⋯  6    \n",
              "20    3               4                  0          1             ⋯  0    \n",
              "21  567            1307                105        310             ⋯ 62    \n",
              "76  209             455                 84        203             ⋯ 63    \n",
              "128  12              40                  4         15             ⋯  2    \n",
              "145   2               5                  1          2             ⋯  1    \n",
              "148 231             588                 77        224             ⋯ 77    \n",
              "165 148             382                 22         99             ⋯ 48    \n",
              "272 357             662                  0          1             ⋯ 16    \n",
              "337 129             271                  5         22             ⋯ 20    \n",
              "361 373             886                 81        243             ⋯ 52    \n",
              "393  84             205                  0          2             ⋯  8    \n",
              "423 169             382                 44        109             ⋯ 22    \n",
              "443 106             277                 52        143             ⋯ 34    \n",
              "460 254             565                 44        150             ⋯ 30    \n",
              "    Turnovers Blocks PersonalFouls Disqualifications TotalPoints Technicals\n",
              "4    82        10    142           1                  909        1         \n",
              "12   15         7     44           1                   52        1         \n",
              "20    0         0      2           0                    6        0         \n",
              "21  176        38    180           1                 1573        4         \n",
              "76   87         7    135           1                  544        2         \n",
              "128   9         3     16           1                   31        0         \n",
              "145   2         0      2           0                    9        0         \n",
              "148  61        22    177           2                  625        0         \n",
              "165  85        10     95           0                  412        0         \n",
              "272 133       129    182           2                  842        3         \n",
              "337  61        49    107           0                  309        1         \n",
              "361 121       134    205           2                 1028        1         \n",
              "393  43        36     67           0                  187        0         \n",
              "423  57         7    109           2                  484        0         \n",
              "443  44         5     83           0                  296        1         \n",
              "460  61         9     69           0                  746        0         \n",
              "    Ejections FlagrantFouls GamesStarted\n",
              "4   0         0             57          \n",
              "12  0         0              0          \n",
              "20  0         0              0          \n",
              "21  0         0             72          \n",
              "76  0         0             72          \n",
              "128 0         0              2          \n",
              "145 0         0              0          \n",
              "148 0         0              7          \n",
              "165 0         0              6          \n",
              "272 0         0             82          \n",
              "337 0         0              1          \n",
              "361 0         0             72          \n",
              "393 0         0              0          \n",
              "423 0         0              5          \n",
              "443 0         0             25          \n",
              "460 0         0              9          "
            ],
            "text/latex": "A data.frame: 16 × 25\n\\begin{tabular}{r|lllllllllllllllllllll}\n  & League & Name & Team & Position & GamesPlayed & TotalMinutesPlayed & FieldGoalsMade & FieldGoalsAttempted & ThreesMade & ThreesAttempted & ⋯ & Steals & Turnovers & Blocks & PersonalFouls & Disqualifications & TotalPoints & Technicals & Ejections & FlagrantFouls & GamesStarted\\\\\n  & <fct> & <chr> & <fct> & <fct> & <int> & <int> & <int> & <int> & <int> & <int> & ⋯ & <int> & <int> & <int> & <int> & <int> & <int> & <int> & <int> & <int> & <int>\\\\\n\\hline\n\t4 & NBA & Arron Afflalo    & NYK & SG & 71 & 2359 & 354 &  799 &  91 & 238 & ⋯ & 25 &  82 &  10 & 142 & 1 &  909 & 1 & 0 & 0 & 57\\\\\n\t12 & NBA & Lou Amundson     & NYK & PF & 29 &  199 &  19 &   52 &   0 &   0 & ⋯ &  6 &  15 &   7 &  44 & 1 &   52 & 1 & 0 & 0 &  0\\\\\n\t20 & NBA & Th Antetokounmpo & NYK & SF &  3 &    7 &   3 &    4 &   0 &   1 & ⋯ &  0 &   0 &   0 &   2 & 0 &    6 & 0 & 0 & 0 &  0\\\\\n\t21 & NBA & Carmelo Anthony  & NYK & SF & 72 & 2529 & 567 & 1307 & 105 & 310 & ⋯ & 62 & 176 &  38 & 180 & 1 & 1573 & 4 & 0 & 0 & 72\\\\\n\t76 & NBA & Jose Calderon    & NYK & PG & 72 & 2021 & 209 &  455 &  84 & 203 & ⋯ & 63 &  87 &   7 & 135 & 1 &  544 & 2 & 0 & 0 & 72\\\\\n\t128 & NBA & Cleanthony Early & NYK & SF & 17 &  155 &  12 &   40 &   4 &  15 & ⋯ &  2 &   9 &   3 &  16 & 1 &   31 & 0 & 0 & 0 &  2\\\\\n\t145 & NBA & Jimmer Fredette  & NYK & PG &  6 &   17 &   2 &    5 &   1 &   2 & ⋯ &  1 &   2 &   0 &   2 & 0 &    9 & 0 & 0 & 0 &  0\\\\\n\t148 & NBA & Langsto Galloway & NYK & PG & 82 & 2032 & 231 &  588 &  77 & 224 & ⋯ & 77 &  61 &  22 & 177 & 2 &  625 & 0 & 0 & 0 &  7\\\\\n\t165 & NBA & Jerian Grant     & NYK & PG & 76 & 1241 & 148 &  382 &  22 &  99 & ⋯ & 48 &  85 &  10 &  95 & 0 &  412 & 0 & 0 & 0 &  6\\\\\n\t272 & NBA & Robin Lopez      & NYK & C  & 82 & 2213 & 357 &  662 &   0 &   1 & ⋯ & 16 & 133 & 129 & 182 & 2 &  842 & 3 & 0 & 0 & 82\\\\\n\t337 & NBA & Kyle O'quinn     & NYK & PF & 65 &  761 & 129 &  271 &   5 &  22 & ⋯ & 20 &  61 &  49 & 107 & 0 &  309 & 1 & 0 & 0 &  1\\\\\n\t361 & NBA & Krista Porzingis & NYK & PF & 72 & 2050 & 373 &  886 &  81 & 243 & ⋯ & 52 & 121 & 134 & 205 & 2 & 1028 & 1 & 0 & 0 & 72\\\\\n\t393 & NBA & Kevin Seraphin   & NYK & PF & 48 &  530 &  84 &  205 &   0 &   2 & ⋯ &  8 &  43 &  36 &  67 & 0 &  187 & 0 & 0 & 0 &  0\\\\\n\t423 & NBA & Lance Thomas     & NYK & SF & 59 & 1323 & 169 &  382 &  44 & 109 & ⋯ & 22 &  57 &   7 & 109 & 2 &  484 & 0 & 0 & 0 &  5\\\\\n\t443 & NBA & Sasha Vujacic    & NYK & SG & 61 &  910 & 106 &  277 &  52 & 143 & ⋯ & 34 &  44 &   5 &  83 & 0 &  296 & 1 & 0 & 0 & 25\\\\\n\t460 & NBA & Derrick Williams & NYK & PF & 80 & 1442 & 254 &  565 &  44 & 150 & ⋯ & 30 &  61 &   9 &  69 & 0 &  746 & 0 & 0 & 0 &  9\\\\\n\\end{tabular}\n",
            "text/markdown": "\nA data.frame: 16 × 25\n\n| <!--/--> | League &lt;fct&gt; | Name &lt;chr&gt; | Team &lt;fct&gt; | Position &lt;fct&gt; | GamesPlayed &lt;int&gt; | TotalMinutesPlayed &lt;int&gt; | FieldGoalsMade &lt;int&gt; | FieldGoalsAttempted &lt;int&gt; | ThreesMade &lt;int&gt; | ThreesAttempted &lt;int&gt; | ⋯ ⋯ | Steals &lt;int&gt; | Turnovers &lt;int&gt; | Blocks &lt;int&gt; | PersonalFouls &lt;int&gt; | Disqualifications &lt;int&gt; | TotalPoints &lt;int&gt; | Technicals &lt;int&gt; | Ejections &lt;int&gt; | FlagrantFouls &lt;int&gt; | GamesStarted &lt;int&gt; |\n|---|---|---|---|---|---|---|---|---|---|---|---|---|---|---|---|---|---|---|---|---|---|\n| 4 | NBA | Arron Afflalo    | NYK | SG | 71 | 2359 | 354 |  799 |  91 | 238 | ⋯ | 25 |  82 |  10 | 142 | 1 |  909 | 1 | 0 | 0 | 57 |\n| 12 | NBA | Lou Amundson     | NYK | PF | 29 |  199 |  19 |   52 |   0 |   0 | ⋯ |  6 |  15 |   7 |  44 | 1 |   52 | 1 | 0 | 0 |  0 |\n| 20 | NBA | Th Antetokounmpo | NYK | SF |  3 |    7 |   3 |    4 |   0 |   1 | ⋯ |  0 |   0 |   0 |   2 | 0 |    6 | 0 | 0 | 0 |  0 |\n| 21 | NBA | Carmelo Anthony  | NYK | SF | 72 | 2529 | 567 | 1307 | 105 | 310 | ⋯ | 62 | 176 |  38 | 180 | 1 | 1573 | 4 | 0 | 0 | 72 |\n| 76 | NBA | Jose Calderon    | NYK | PG | 72 | 2021 | 209 |  455 |  84 | 203 | ⋯ | 63 |  87 |   7 | 135 | 1 |  544 | 2 | 0 | 0 | 72 |\n| 128 | NBA | Cleanthony Early | NYK | SF | 17 |  155 |  12 |   40 |   4 |  15 | ⋯ |  2 |   9 |   3 |  16 | 1 |   31 | 0 | 0 | 0 |  2 |\n| 145 | NBA | Jimmer Fredette  | NYK | PG |  6 |   17 |   2 |    5 |   1 |   2 | ⋯ |  1 |   2 |   0 |   2 | 0 |    9 | 0 | 0 | 0 |  0 |\n| 148 | NBA | Langsto Galloway | NYK | PG | 82 | 2032 | 231 |  588 |  77 | 224 | ⋯ | 77 |  61 |  22 | 177 | 2 |  625 | 0 | 0 | 0 |  7 |\n| 165 | NBA | Jerian Grant     | NYK | PG | 76 | 1241 | 148 |  382 |  22 |  99 | ⋯ | 48 |  85 |  10 |  95 | 0 |  412 | 0 | 0 | 0 |  6 |\n| 272 | NBA | Robin Lopez      | NYK | C  | 82 | 2213 | 357 |  662 |   0 |   1 | ⋯ | 16 | 133 | 129 | 182 | 2 |  842 | 3 | 0 | 0 | 82 |\n| 337 | NBA | Kyle O'quinn     | NYK | PF | 65 |  761 | 129 |  271 |   5 |  22 | ⋯ | 20 |  61 |  49 | 107 | 0 |  309 | 1 | 0 | 0 |  1 |\n| 361 | NBA | Krista Porzingis | NYK | PF | 72 | 2050 | 373 |  886 |  81 | 243 | ⋯ | 52 | 121 | 134 | 205 | 2 | 1028 | 1 | 0 | 0 | 72 |\n| 393 | NBA | Kevin Seraphin   | NYK | PF | 48 |  530 |  84 |  205 |   0 |   2 | ⋯ |  8 |  43 |  36 |  67 | 0 |  187 | 0 | 0 | 0 |  0 |\n| 423 | NBA | Lance Thomas     | NYK | SF | 59 | 1323 | 169 |  382 |  44 | 109 | ⋯ | 22 |  57 |   7 | 109 | 2 |  484 | 0 | 0 | 0 |  5 |\n| 443 | NBA | Sasha Vujacic    | NYK | SG | 61 |  910 | 106 |  277 |  52 | 143 | ⋯ | 34 |  44 |   5 |  83 | 0 |  296 | 1 | 0 | 0 | 25 |\n| 460 | NBA | Derrick Williams | NYK | PF | 80 | 1442 | 254 |  565 |  44 | 150 | ⋯ | 30 |  61 |   9 |  69 | 0 |  746 | 0 | 0 | 0 |  9 |\n\n",
            "text/html": [
              "<table class=\"dataframe\">\n",
              "<caption>A data.frame: 16 × 25</caption>\n",
              "<thead>\n",
              "\t<tr><th></th><th scope=col>League</th><th scope=col>Name</th><th scope=col>Team</th><th scope=col>Position</th><th scope=col>GamesPlayed</th><th scope=col>TotalMinutesPlayed</th><th scope=col>FieldGoalsMade</th><th scope=col>FieldGoalsAttempted</th><th scope=col>ThreesMade</th><th scope=col>ThreesAttempted</th><th scope=col>⋯</th><th scope=col>Steals</th><th scope=col>Turnovers</th><th scope=col>Blocks</th><th scope=col>PersonalFouls</th><th scope=col>Disqualifications</th><th scope=col>TotalPoints</th><th scope=col>Technicals</th><th scope=col>Ejections</th><th scope=col>FlagrantFouls</th><th scope=col>GamesStarted</th></tr>\n",
              "\t<tr><th></th><th scope=col>&lt;fct&gt;</th><th scope=col>&lt;chr&gt;</th><th scope=col>&lt;fct&gt;</th><th scope=col>&lt;fct&gt;</th><th scope=col>&lt;int&gt;</th><th scope=col>&lt;int&gt;</th><th scope=col>&lt;int&gt;</th><th scope=col>&lt;int&gt;</th><th scope=col>&lt;int&gt;</th><th scope=col>&lt;int&gt;</th><th scope=col>⋯</th><th scope=col>&lt;int&gt;</th><th scope=col>&lt;int&gt;</th><th scope=col>&lt;int&gt;</th><th scope=col>&lt;int&gt;</th><th scope=col>&lt;int&gt;</th><th scope=col>&lt;int&gt;</th><th scope=col>&lt;int&gt;</th><th scope=col>&lt;int&gt;</th><th scope=col>&lt;int&gt;</th><th scope=col>&lt;int&gt;</th></tr>\n",
              "</thead>\n",
              "<tbody>\n",
              "\t<tr><th scope=row>4</th><td>NBA</td><td>Arron Afflalo   </td><td>NYK</td><td>SG</td><td>71</td><td>2359</td><td>354</td><td> 799</td><td> 91</td><td>238</td><td>⋯</td><td>25</td><td> 82</td><td> 10</td><td>142</td><td>1</td><td> 909</td><td>1</td><td>0</td><td>0</td><td>57</td></tr>\n",
              "\t<tr><th scope=row>12</th><td>NBA</td><td>Lou Amundson    </td><td>NYK</td><td>PF</td><td>29</td><td> 199</td><td> 19</td><td>  52</td><td>  0</td><td>  0</td><td>⋯</td><td> 6</td><td> 15</td><td>  7</td><td> 44</td><td>1</td><td>  52</td><td>1</td><td>0</td><td>0</td><td> 0</td></tr>\n",
              "\t<tr><th scope=row>20</th><td>NBA</td><td>Th Antetokounmpo</td><td>NYK</td><td>SF</td><td> 3</td><td>   7</td><td>  3</td><td>   4</td><td>  0</td><td>  1</td><td>⋯</td><td> 0</td><td>  0</td><td>  0</td><td>  2</td><td>0</td><td>   6</td><td>0</td><td>0</td><td>0</td><td> 0</td></tr>\n",
              "\t<tr><th scope=row>21</th><td>NBA</td><td>Carmelo Anthony </td><td>NYK</td><td>SF</td><td>72</td><td>2529</td><td>567</td><td>1307</td><td>105</td><td>310</td><td>⋯</td><td>62</td><td>176</td><td> 38</td><td>180</td><td>1</td><td>1573</td><td>4</td><td>0</td><td>0</td><td>72</td></tr>\n",
              "\t<tr><th scope=row>76</th><td>NBA</td><td>Jose Calderon   </td><td>NYK</td><td>PG</td><td>72</td><td>2021</td><td>209</td><td> 455</td><td> 84</td><td>203</td><td>⋯</td><td>63</td><td> 87</td><td>  7</td><td>135</td><td>1</td><td> 544</td><td>2</td><td>0</td><td>0</td><td>72</td></tr>\n",
              "\t<tr><th scope=row>128</th><td>NBA</td><td>Cleanthony Early</td><td>NYK</td><td>SF</td><td>17</td><td> 155</td><td> 12</td><td>  40</td><td>  4</td><td> 15</td><td>⋯</td><td> 2</td><td>  9</td><td>  3</td><td> 16</td><td>1</td><td>  31</td><td>0</td><td>0</td><td>0</td><td> 2</td></tr>\n",
              "\t<tr><th scope=row>145</th><td>NBA</td><td>Jimmer Fredette </td><td>NYK</td><td>PG</td><td> 6</td><td>  17</td><td>  2</td><td>   5</td><td>  1</td><td>  2</td><td>⋯</td><td> 1</td><td>  2</td><td>  0</td><td>  2</td><td>0</td><td>   9</td><td>0</td><td>0</td><td>0</td><td> 0</td></tr>\n",
              "\t<tr><th scope=row>148</th><td>NBA</td><td>Langsto Galloway</td><td>NYK</td><td>PG</td><td>82</td><td>2032</td><td>231</td><td> 588</td><td> 77</td><td>224</td><td>⋯</td><td>77</td><td> 61</td><td> 22</td><td>177</td><td>2</td><td> 625</td><td>0</td><td>0</td><td>0</td><td> 7</td></tr>\n",
              "\t<tr><th scope=row>165</th><td>NBA</td><td>Jerian Grant    </td><td>NYK</td><td>PG</td><td>76</td><td>1241</td><td>148</td><td> 382</td><td> 22</td><td> 99</td><td>⋯</td><td>48</td><td> 85</td><td> 10</td><td> 95</td><td>0</td><td> 412</td><td>0</td><td>0</td><td>0</td><td> 6</td></tr>\n",
              "\t<tr><th scope=row>272</th><td>NBA</td><td>Robin Lopez     </td><td>NYK</td><td>C </td><td>82</td><td>2213</td><td>357</td><td> 662</td><td>  0</td><td>  1</td><td>⋯</td><td>16</td><td>133</td><td>129</td><td>182</td><td>2</td><td> 842</td><td>3</td><td>0</td><td>0</td><td>82</td></tr>\n",
              "\t<tr><th scope=row>337</th><td>NBA</td><td>Kyle O'quinn    </td><td>NYK</td><td>PF</td><td>65</td><td> 761</td><td>129</td><td> 271</td><td>  5</td><td> 22</td><td>⋯</td><td>20</td><td> 61</td><td> 49</td><td>107</td><td>0</td><td> 309</td><td>1</td><td>0</td><td>0</td><td> 1</td></tr>\n",
              "\t<tr><th scope=row>361</th><td>NBA</td><td>Krista Porzingis</td><td>NYK</td><td>PF</td><td>72</td><td>2050</td><td>373</td><td> 886</td><td> 81</td><td>243</td><td>⋯</td><td>52</td><td>121</td><td>134</td><td>205</td><td>2</td><td>1028</td><td>1</td><td>0</td><td>0</td><td>72</td></tr>\n",
              "\t<tr><th scope=row>393</th><td>NBA</td><td>Kevin Seraphin  </td><td>NYK</td><td>PF</td><td>48</td><td> 530</td><td> 84</td><td> 205</td><td>  0</td><td>  2</td><td>⋯</td><td> 8</td><td> 43</td><td> 36</td><td> 67</td><td>0</td><td> 187</td><td>0</td><td>0</td><td>0</td><td> 0</td></tr>\n",
              "\t<tr><th scope=row>423</th><td>NBA</td><td>Lance Thomas    </td><td>NYK</td><td>SF</td><td>59</td><td>1323</td><td>169</td><td> 382</td><td> 44</td><td>109</td><td>⋯</td><td>22</td><td> 57</td><td>  7</td><td>109</td><td>2</td><td> 484</td><td>0</td><td>0</td><td>0</td><td> 5</td></tr>\n",
              "\t<tr><th scope=row>443</th><td>NBA</td><td>Sasha Vujacic   </td><td>NYK</td><td>SG</td><td>61</td><td> 910</td><td>106</td><td> 277</td><td> 52</td><td>143</td><td>⋯</td><td>34</td><td> 44</td><td>  5</td><td> 83</td><td>0</td><td> 296</td><td>1</td><td>0</td><td>0</td><td>25</td></tr>\n",
              "\t<tr><th scope=row>460</th><td>NBA</td><td>Derrick Williams</td><td>NYK</td><td>PF</td><td>80</td><td>1442</td><td>254</td><td> 565</td><td> 44</td><td>150</td><td>⋯</td><td>30</td><td> 61</td><td>  9</td><td> 69</td><td>0</td><td> 746</td><td>0</td><td>0</td><td>0</td><td> 9</td></tr>\n",
              "</tbody>\n",
              "</table>\n"
            ]
          },
          "metadata": {
            "tags": []
          }
        }
      ]
    },
    {
      "cell_type": "code",
      "metadata": {
        "colab": {
          "base_uri": "https://localhost:8080/",
          "height": 793
        },
        "id": "2gVI2fCgUuYp",
        "outputId": "d17b61ad-d302-479a-e006-6b4ff8afab78"
      },
      "source": [
        "subset(NBA1516, Team==\"GSW\")"
      ],
      "execution_count": 62,
      "outputs": [
        {
          "output_type": "display_data",
          "data": {
            "text/plain": [
              "    League Name             Team Position GamesPlayed TotalMinutesPlayed\n",
              "32  NBA    Leandro Barbosa  GSW  SG       68          1079              \n",
              "35  NBA    Harrison Barnes  GSW  SF       66          2043              \n",
              "55  NBA    Andrew Bogut     GSW  C        70          1452              \n",
              "88  NBA    Ian Clark        GSW  SG       66           579              \n",
              "106 NBA    Stephen Curry    GSW  PG       79          2705              \n",
              "136 NBA    Festus Ezeli     GSW  C        46           769              \n",
              "167 NBA    Draymond Green   GSW  SF       81          2807              \n",
              "215 NBA    Andre Iguodala   GSW  SG       65          1736              \n",
              "269 NBA    Shaun Livingston GSW  PG       78          1512              \n",
              "270 NBA    Kevon Looney     GSW  SF        5            21              \n",
              "286 NBA    James Mcadoo     GSW  SG       41           265              \n",
              "385 NBA    Brandon Rush     GSW  SG       72          1050              \n",
              "408 NBA    Marrees Speights GSW  C        72           836              \n",
              "426 NBA    Klay Thompson    GSW  SG       80          2661              \n",
              "437 NBA    Anderson Varejao GSW  C        53           494              \n",
              "    FieldGoalsMade FieldGoalsAttempted ThreesMade ThreesAttempted ⋯ Steals\n",
              "32  171             370                 39        111             ⋯  44   \n",
              "35  295             633                 82        214             ⋯  41   \n",
              "55  175             279                  1          1             ⋯  32   \n",
              "88   89             202                 30         84             ⋯  17   \n",
              "106 805            1597                402        887             ⋯ 169   \n",
              "136 125             228                  0          0             ⋯  18   \n",
              "167 401             819                100        258             ⋯ 118   \n",
              "215 176             368                 54        154             ⋯  73   \n",
              "269 203             379                  2         12             ⋯  57   \n",
              "270   4               7                  1          2             ⋯   0   \n",
              "286  45              84                  1          2             ⋯  10   \n",
              "385 111             260                 65        157             ⋯  21   \n",
              "408 197             456                 24         62             ⋯  19   \n",
              "426 651            1386                276        648             ⋯  60   \n",
              "437  53             124                  0          1             ⋯  16   \n",
              "    Turnovers Blocks PersonalFouls Disqualifications TotalPoints Technicals\n",
              "32   53        10    107           0                  433         1        \n",
              "35   58        10    136           1                  774         0        \n",
              "55   83       113    221           4                  375         0        \n",
              "88   43        13     58           0                  236         1        \n",
              "106 261        16    161           0                 2375         1        \n",
              "136  38        50     94           1                  320         0        \n",
              "167 259       111    240           2                 1131        11        \n",
              "215  79        19    102           0                  457         1        \n",
              "269  78        27    140           0                  488         2        \n",
              "270   1         0      2           0                    9         0        \n",
              "286  16         8     39           0                  117         0        \n",
              "385  33        23     57           1                  305         0        \n",
              "408  66        34    117           0                  512         2        \n",
              "426 138        50    152           0                 1771         0        \n",
              "437  22        10     70           0                  138         1        \n",
              "    Ejections FlagrantFouls GamesStarted\n",
              "32  0         0              0          \n",
              "35  0         0             59          \n",
              "55  0         0             66          \n",
              "88  0         0              1          \n",
              "106 0         0             79          \n",
              "136 0         0             13          \n",
              "167 0         0             81          \n",
              "215 0         0              1          \n",
              "269 0         0              3          \n",
              "270 0         0              0          \n",
              "286 0         0              1          \n",
              "385 0         0             25          \n",
              "408 0         0              0          \n",
              "426 0         0             80          \n",
              "437 0         0              0          "
            ],
            "text/latex": "A data.frame: 15 × 25\n\\begin{tabular}{r|lllllllllllllllllllll}\n  & League & Name & Team & Position & GamesPlayed & TotalMinutesPlayed & FieldGoalsMade & FieldGoalsAttempted & ThreesMade & ThreesAttempted & ⋯ & Steals & Turnovers & Blocks & PersonalFouls & Disqualifications & TotalPoints & Technicals & Ejections & FlagrantFouls & GamesStarted\\\\\n  & <fct> & <chr> & <fct> & <fct> & <int> & <int> & <int> & <int> & <int> & <int> & ⋯ & <int> & <int> & <int> & <int> & <int> & <int> & <int> & <int> & <int> & <int>\\\\\n\\hline\n\t32 & NBA & Leandro Barbosa  & GSW & SG & 68 & 1079 & 171 &  370 &  39 & 111 & ⋯ &  44 &  53 &  10 & 107 & 0 &  433 &  1 & 0 & 0 &  0\\\\\n\t35 & NBA & Harrison Barnes  & GSW & SF & 66 & 2043 & 295 &  633 &  82 & 214 & ⋯ &  41 &  58 &  10 & 136 & 1 &  774 &  0 & 0 & 0 & 59\\\\\n\t55 & NBA & Andrew Bogut     & GSW & C  & 70 & 1452 & 175 &  279 &   1 &   1 & ⋯ &  32 &  83 & 113 & 221 & 4 &  375 &  0 & 0 & 0 & 66\\\\\n\t88 & NBA & Ian Clark        & GSW & SG & 66 &  579 &  89 &  202 &  30 &  84 & ⋯ &  17 &  43 &  13 &  58 & 0 &  236 &  1 & 0 & 0 &  1\\\\\n\t106 & NBA & Stephen Curry    & GSW & PG & 79 & 2705 & 805 & 1597 & 402 & 887 & ⋯ & 169 & 261 &  16 & 161 & 0 & 2375 &  1 & 0 & 0 & 79\\\\\n\t136 & NBA & Festus Ezeli     & GSW & C  & 46 &  769 & 125 &  228 &   0 &   0 & ⋯ &  18 &  38 &  50 &  94 & 1 &  320 &  0 & 0 & 0 & 13\\\\\n\t167 & NBA & Draymond Green   & GSW & SF & 81 & 2807 & 401 &  819 & 100 & 258 & ⋯ & 118 & 259 & 111 & 240 & 2 & 1131 & 11 & 0 & 0 & 81\\\\\n\t215 & NBA & Andre Iguodala   & GSW & SG & 65 & 1736 & 176 &  368 &  54 & 154 & ⋯ &  73 &  79 &  19 & 102 & 0 &  457 &  1 & 0 & 0 &  1\\\\\n\t269 & NBA & Shaun Livingston & GSW & PG & 78 & 1512 & 203 &  379 &   2 &  12 & ⋯ &  57 &  78 &  27 & 140 & 0 &  488 &  2 & 0 & 0 &  3\\\\\n\t270 & NBA & Kevon Looney     & GSW & SF &  5 &   21 &   4 &    7 &   1 &   2 & ⋯ &   0 &   1 &   0 &   2 & 0 &    9 &  0 & 0 & 0 &  0\\\\\n\t286 & NBA & James Mcadoo     & GSW & SG & 41 &  265 &  45 &   84 &   1 &   2 & ⋯ &  10 &  16 &   8 &  39 & 0 &  117 &  0 & 0 & 0 &  1\\\\\n\t385 & NBA & Brandon Rush     & GSW & SG & 72 & 1050 & 111 &  260 &  65 & 157 & ⋯ &  21 &  33 &  23 &  57 & 1 &  305 &  0 & 0 & 0 & 25\\\\\n\t408 & NBA & Marrees Speights & GSW & C  & 72 &  836 & 197 &  456 &  24 &  62 & ⋯ &  19 &  66 &  34 & 117 & 0 &  512 &  2 & 0 & 0 &  0\\\\\n\t426 & NBA & Klay Thompson    & GSW & SG & 80 & 2661 & 651 & 1386 & 276 & 648 & ⋯ &  60 & 138 &  50 & 152 & 0 & 1771 &  0 & 0 & 0 & 80\\\\\n\t437 & NBA & Anderson Varejao & GSW & C  & 53 &  494 &  53 &  124 &   0 &   1 & ⋯ &  16 &  22 &  10 &  70 & 0 &  138 &  1 & 0 & 0 &  0\\\\\n\\end{tabular}\n",
            "text/markdown": "\nA data.frame: 15 × 25\n\n| <!--/--> | League &lt;fct&gt; | Name &lt;chr&gt; | Team &lt;fct&gt; | Position &lt;fct&gt; | GamesPlayed &lt;int&gt; | TotalMinutesPlayed &lt;int&gt; | FieldGoalsMade &lt;int&gt; | FieldGoalsAttempted &lt;int&gt; | ThreesMade &lt;int&gt; | ThreesAttempted &lt;int&gt; | ⋯ ⋯ | Steals &lt;int&gt; | Turnovers &lt;int&gt; | Blocks &lt;int&gt; | PersonalFouls &lt;int&gt; | Disqualifications &lt;int&gt; | TotalPoints &lt;int&gt; | Technicals &lt;int&gt; | Ejections &lt;int&gt; | FlagrantFouls &lt;int&gt; | GamesStarted &lt;int&gt; |\n|---|---|---|---|---|---|---|---|---|---|---|---|---|---|---|---|---|---|---|---|---|---|\n| 32 | NBA | Leandro Barbosa  | GSW | SG | 68 | 1079 | 171 |  370 |  39 | 111 | ⋯ |  44 |  53 |  10 | 107 | 0 |  433 |  1 | 0 | 0 |  0 |\n| 35 | NBA | Harrison Barnes  | GSW | SF | 66 | 2043 | 295 |  633 |  82 | 214 | ⋯ |  41 |  58 |  10 | 136 | 1 |  774 |  0 | 0 | 0 | 59 |\n| 55 | NBA | Andrew Bogut     | GSW | C  | 70 | 1452 | 175 |  279 |   1 |   1 | ⋯ |  32 |  83 | 113 | 221 | 4 |  375 |  0 | 0 | 0 | 66 |\n| 88 | NBA | Ian Clark        | GSW | SG | 66 |  579 |  89 |  202 |  30 |  84 | ⋯ |  17 |  43 |  13 |  58 | 0 |  236 |  1 | 0 | 0 |  1 |\n| 106 | NBA | Stephen Curry    | GSW | PG | 79 | 2705 | 805 | 1597 | 402 | 887 | ⋯ | 169 | 261 |  16 | 161 | 0 | 2375 |  1 | 0 | 0 | 79 |\n| 136 | NBA | Festus Ezeli     | GSW | C  | 46 |  769 | 125 |  228 |   0 |   0 | ⋯ |  18 |  38 |  50 |  94 | 1 |  320 |  0 | 0 | 0 | 13 |\n| 167 | NBA | Draymond Green   | GSW | SF | 81 | 2807 | 401 |  819 | 100 | 258 | ⋯ | 118 | 259 | 111 | 240 | 2 | 1131 | 11 | 0 | 0 | 81 |\n| 215 | NBA | Andre Iguodala   | GSW | SG | 65 | 1736 | 176 |  368 |  54 | 154 | ⋯ |  73 |  79 |  19 | 102 | 0 |  457 |  1 | 0 | 0 |  1 |\n| 269 | NBA | Shaun Livingston | GSW | PG | 78 | 1512 | 203 |  379 |   2 |  12 | ⋯ |  57 |  78 |  27 | 140 | 0 |  488 |  2 | 0 | 0 |  3 |\n| 270 | NBA | Kevon Looney     | GSW | SF |  5 |   21 |   4 |    7 |   1 |   2 | ⋯ |   0 |   1 |   0 |   2 | 0 |    9 |  0 | 0 | 0 |  0 |\n| 286 | NBA | James Mcadoo     | GSW | SG | 41 |  265 |  45 |   84 |   1 |   2 | ⋯ |  10 |  16 |   8 |  39 | 0 |  117 |  0 | 0 | 0 |  1 |\n| 385 | NBA | Brandon Rush     | GSW | SG | 72 | 1050 | 111 |  260 |  65 | 157 | ⋯ |  21 |  33 |  23 |  57 | 1 |  305 |  0 | 0 | 0 | 25 |\n| 408 | NBA | Marrees Speights | GSW | C  | 72 |  836 | 197 |  456 |  24 |  62 | ⋯ |  19 |  66 |  34 | 117 | 0 |  512 |  2 | 0 | 0 |  0 |\n| 426 | NBA | Klay Thompson    | GSW | SG | 80 | 2661 | 651 | 1386 | 276 | 648 | ⋯ |  60 | 138 |  50 | 152 | 0 | 1771 |  0 | 0 | 0 | 80 |\n| 437 | NBA | Anderson Varejao | GSW | C  | 53 |  494 |  53 |  124 |   0 |   1 | ⋯ |  16 |  22 |  10 |  70 | 0 |  138 |  1 | 0 | 0 |  0 |\n\n",
            "text/html": [
              "<table class=\"dataframe\">\n",
              "<caption>A data.frame: 15 × 25</caption>\n",
              "<thead>\n",
              "\t<tr><th></th><th scope=col>League</th><th scope=col>Name</th><th scope=col>Team</th><th scope=col>Position</th><th scope=col>GamesPlayed</th><th scope=col>TotalMinutesPlayed</th><th scope=col>FieldGoalsMade</th><th scope=col>FieldGoalsAttempted</th><th scope=col>ThreesMade</th><th scope=col>ThreesAttempted</th><th scope=col>⋯</th><th scope=col>Steals</th><th scope=col>Turnovers</th><th scope=col>Blocks</th><th scope=col>PersonalFouls</th><th scope=col>Disqualifications</th><th scope=col>TotalPoints</th><th scope=col>Technicals</th><th scope=col>Ejections</th><th scope=col>FlagrantFouls</th><th scope=col>GamesStarted</th></tr>\n",
              "\t<tr><th></th><th scope=col>&lt;fct&gt;</th><th scope=col>&lt;chr&gt;</th><th scope=col>&lt;fct&gt;</th><th scope=col>&lt;fct&gt;</th><th scope=col>&lt;int&gt;</th><th scope=col>&lt;int&gt;</th><th scope=col>&lt;int&gt;</th><th scope=col>&lt;int&gt;</th><th scope=col>&lt;int&gt;</th><th scope=col>&lt;int&gt;</th><th scope=col>⋯</th><th scope=col>&lt;int&gt;</th><th scope=col>&lt;int&gt;</th><th scope=col>&lt;int&gt;</th><th scope=col>&lt;int&gt;</th><th scope=col>&lt;int&gt;</th><th scope=col>&lt;int&gt;</th><th scope=col>&lt;int&gt;</th><th scope=col>&lt;int&gt;</th><th scope=col>&lt;int&gt;</th><th scope=col>&lt;int&gt;</th></tr>\n",
              "</thead>\n",
              "<tbody>\n",
              "\t<tr><th scope=row>32</th><td>NBA</td><td>Leandro Barbosa </td><td>GSW</td><td>SG</td><td>68</td><td>1079</td><td>171</td><td> 370</td><td> 39</td><td>111</td><td>⋯</td><td> 44</td><td> 53</td><td> 10</td><td>107</td><td>0</td><td> 433</td><td> 1</td><td>0</td><td>0</td><td> 0</td></tr>\n",
              "\t<tr><th scope=row>35</th><td>NBA</td><td>Harrison Barnes </td><td>GSW</td><td>SF</td><td>66</td><td>2043</td><td>295</td><td> 633</td><td> 82</td><td>214</td><td>⋯</td><td> 41</td><td> 58</td><td> 10</td><td>136</td><td>1</td><td> 774</td><td> 0</td><td>0</td><td>0</td><td>59</td></tr>\n",
              "\t<tr><th scope=row>55</th><td>NBA</td><td>Andrew Bogut    </td><td>GSW</td><td>C </td><td>70</td><td>1452</td><td>175</td><td> 279</td><td>  1</td><td>  1</td><td>⋯</td><td> 32</td><td> 83</td><td>113</td><td>221</td><td>4</td><td> 375</td><td> 0</td><td>0</td><td>0</td><td>66</td></tr>\n",
              "\t<tr><th scope=row>88</th><td>NBA</td><td>Ian Clark       </td><td>GSW</td><td>SG</td><td>66</td><td> 579</td><td> 89</td><td> 202</td><td> 30</td><td> 84</td><td>⋯</td><td> 17</td><td> 43</td><td> 13</td><td> 58</td><td>0</td><td> 236</td><td> 1</td><td>0</td><td>0</td><td> 1</td></tr>\n",
              "\t<tr><th scope=row>106</th><td>NBA</td><td>Stephen Curry   </td><td>GSW</td><td>PG</td><td>79</td><td>2705</td><td>805</td><td>1597</td><td>402</td><td>887</td><td>⋯</td><td>169</td><td>261</td><td> 16</td><td>161</td><td>0</td><td>2375</td><td> 1</td><td>0</td><td>0</td><td>79</td></tr>\n",
              "\t<tr><th scope=row>136</th><td>NBA</td><td>Festus Ezeli    </td><td>GSW</td><td>C </td><td>46</td><td> 769</td><td>125</td><td> 228</td><td>  0</td><td>  0</td><td>⋯</td><td> 18</td><td> 38</td><td> 50</td><td> 94</td><td>1</td><td> 320</td><td> 0</td><td>0</td><td>0</td><td>13</td></tr>\n",
              "\t<tr><th scope=row>167</th><td>NBA</td><td>Draymond Green  </td><td>GSW</td><td>SF</td><td>81</td><td>2807</td><td>401</td><td> 819</td><td>100</td><td>258</td><td>⋯</td><td>118</td><td>259</td><td>111</td><td>240</td><td>2</td><td>1131</td><td>11</td><td>0</td><td>0</td><td>81</td></tr>\n",
              "\t<tr><th scope=row>215</th><td>NBA</td><td>Andre Iguodala  </td><td>GSW</td><td>SG</td><td>65</td><td>1736</td><td>176</td><td> 368</td><td> 54</td><td>154</td><td>⋯</td><td> 73</td><td> 79</td><td> 19</td><td>102</td><td>0</td><td> 457</td><td> 1</td><td>0</td><td>0</td><td> 1</td></tr>\n",
              "\t<tr><th scope=row>269</th><td>NBA</td><td>Shaun Livingston</td><td>GSW</td><td>PG</td><td>78</td><td>1512</td><td>203</td><td> 379</td><td>  2</td><td> 12</td><td>⋯</td><td> 57</td><td> 78</td><td> 27</td><td>140</td><td>0</td><td> 488</td><td> 2</td><td>0</td><td>0</td><td> 3</td></tr>\n",
              "\t<tr><th scope=row>270</th><td>NBA</td><td>Kevon Looney    </td><td>GSW</td><td>SF</td><td> 5</td><td>  21</td><td>  4</td><td>   7</td><td>  1</td><td>  2</td><td>⋯</td><td>  0</td><td>  1</td><td>  0</td><td>  2</td><td>0</td><td>   9</td><td> 0</td><td>0</td><td>0</td><td> 0</td></tr>\n",
              "\t<tr><th scope=row>286</th><td>NBA</td><td>James Mcadoo    </td><td>GSW</td><td>SG</td><td>41</td><td> 265</td><td> 45</td><td>  84</td><td>  1</td><td>  2</td><td>⋯</td><td> 10</td><td> 16</td><td>  8</td><td> 39</td><td>0</td><td> 117</td><td> 0</td><td>0</td><td>0</td><td> 1</td></tr>\n",
              "\t<tr><th scope=row>385</th><td>NBA</td><td>Brandon Rush    </td><td>GSW</td><td>SG</td><td>72</td><td>1050</td><td>111</td><td> 260</td><td> 65</td><td>157</td><td>⋯</td><td> 21</td><td> 33</td><td> 23</td><td> 57</td><td>1</td><td> 305</td><td> 0</td><td>0</td><td>0</td><td>25</td></tr>\n",
              "\t<tr><th scope=row>408</th><td>NBA</td><td>Marrees Speights</td><td>GSW</td><td>C </td><td>72</td><td> 836</td><td>197</td><td> 456</td><td> 24</td><td> 62</td><td>⋯</td><td> 19</td><td> 66</td><td> 34</td><td>117</td><td>0</td><td> 512</td><td> 2</td><td>0</td><td>0</td><td> 0</td></tr>\n",
              "\t<tr><th scope=row>426</th><td>NBA</td><td>Klay Thompson   </td><td>GSW</td><td>SG</td><td>80</td><td>2661</td><td>651</td><td>1386</td><td>276</td><td>648</td><td>⋯</td><td> 60</td><td>138</td><td> 50</td><td>152</td><td>0</td><td>1771</td><td> 0</td><td>0</td><td>0</td><td>80</td></tr>\n",
              "\t<tr><th scope=row>437</th><td>NBA</td><td>Anderson Varejao</td><td>GSW</td><td>C </td><td>53</td><td> 494</td><td> 53</td><td> 124</td><td>  0</td><td>  1</td><td>⋯</td><td> 16</td><td> 22</td><td> 10</td><td> 70</td><td>0</td><td> 138</td><td> 1</td><td>0</td><td>0</td><td> 0</td></tr>\n",
              "</tbody>\n",
              "</table>\n"
            ]
          },
          "metadata": {
            "tags": []
          }
        }
      ]
    },
    {
      "cell_type": "code",
      "metadata": {
        "colab": {
          "base_uri": "https://localhost:8080/",
          "height": 206
        },
        "id": "0vyystUcUG4C",
        "outputId": "abda8473-7117-41bc-c7ef-d0b0055b4c58"
      },
      "source": [
        "NBA1516[grepl(\"Curry\", NBA1516$Name),]"
      ],
      "execution_count": 64,
      "outputs": [
        {
          "output_type": "display_data",
          "data": {
            "text/plain": [
              "    League Name          Team Position GamesPlayed TotalMinutesPlayed\n",
              "105 NBA    Seth Curry    SAC  SG       44           694              \n",
              "106 NBA    Stephen Curry GSW  PG       79          2705              \n",
              "    FieldGoalsMade FieldGoalsAttempted ThreesMade ThreesAttempted ⋯ Steals\n",
              "105 102             224                 50        111             ⋯  22   \n",
              "106 805            1597                402        887             ⋯ 169   \n",
              "    Turnovers Blocks PersonalFouls Disqualifications TotalPoints Technicals\n",
              "105  36        3      41           0                  299        0         \n",
              "106 261       16     161           0                 2375        1         \n",
              "    Ejections FlagrantFouls GamesStarted\n",
              "105 0         0              9          \n",
              "106 0         0             79          "
            ],
            "text/latex": "A data.frame: 2 × 25\n\\begin{tabular}{r|lllllllllllllllllllll}\n  & League & Name & Team & Position & GamesPlayed & TotalMinutesPlayed & FieldGoalsMade & FieldGoalsAttempted & ThreesMade & ThreesAttempted & ⋯ & Steals & Turnovers & Blocks & PersonalFouls & Disqualifications & TotalPoints & Technicals & Ejections & FlagrantFouls & GamesStarted\\\\\n  & <fct> & <chr> & <fct> & <fct> & <int> & <int> & <int> & <int> & <int> & <int> & ⋯ & <int> & <int> & <int> & <int> & <int> & <int> & <int> & <int> & <int> & <int>\\\\\n\\hline\n\t105 & NBA & Seth Curry    & SAC & SG & 44 &  694 & 102 &  224 &  50 & 111 & ⋯ &  22 &  36 &  3 &  41 & 0 &  299 & 0 & 0 & 0 &  9\\\\\n\t106 & NBA & Stephen Curry & GSW & PG & 79 & 2705 & 805 & 1597 & 402 & 887 & ⋯ & 169 & 261 & 16 & 161 & 0 & 2375 & 1 & 0 & 0 & 79\\\\\n\\end{tabular}\n",
            "text/markdown": "\nA data.frame: 2 × 25\n\n| <!--/--> | League &lt;fct&gt; | Name &lt;chr&gt; | Team &lt;fct&gt; | Position &lt;fct&gt; | GamesPlayed &lt;int&gt; | TotalMinutesPlayed &lt;int&gt; | FieldGoalsMade &lt;int&gt; | FieldGoalsAttempted &lt;int&gt; | ThreesMade &lt;int&gt; | ThreesAttempted &lt;int&gt; | ⋯ ⋯ | Steals &lt;int&gt; | Turnovers &lt;int&gt; | Blocks &lt;int&gt; | PersonalFouls &lt;int&gt; | Disqualifications &lt;int&gt; | TotalPoints &lt;int&gt; | Technicals &lt;int&gt; | Ejections &lt;int&gt; | FlagrantFouls &lt;int&gt; | GamesStarted &lt;int&gt; |\n|---|---|---|---|---|---|---|---|---|---|---|---|---|---|---|---|---|---|---|---|---|---|\n| 105 | NBA | Seth Curry    | SAC | SG | 44 |  694 | 102 |  224 |  50 | 111 | ⋯ |  22 |  36 |  3 |  41 | 0 |  299 | 0 | 0 | 0 |  9 |\n| 106 | NBA | Stephen Curry | GSW | PG | 79 | 2705 | 805 | 1597 | 402 | 887 | ⋯ | 169 | 261 | 16 | 161 | 0 | 2375 | 1 | 0 | 0 | 79 |\n\n",
            "text/html": [
              "<table class=\"dataframe\">\n",
              "<caption>A data.frame: 2 × 25</caption>\n",
              "<thead>\n",
              "\t<tr><th></th><th scope=col>League</th><th scope=col>Name</th><th scope=col>Team</th><th scope=col>Position</th><th scope=col>GamesPlayed</th><th scope=col>TotalMinutesPlayed</th><th scope=col>FieldGoalsMade</th><th scope=col>FieldGoalsAttempted</th><th scope=col>ThreesMade</th><th scope=col>ThreesAttempted</th><th scope=col>⋯</th><th scope=col>Steals</th><th scope=col>Turnovers</th><th scope=col>Blocks</th><th scope=col>PersonalFouls</th><th scope=col>Disqualifications</th><th scope=col>TotalPoints</th><th scope=col>Technicals</th><th scope=col>Ejections</th><th scope=col>FlagrantFouls</th><th scope=col>GamesStarted</th></tr>\n",
              "\t<tr><th></th><th scope=col>&lt;fct&gt;</th><th scope=col>&lt;chr&gt;</th><th scope=col>&lt;fct&gt;</th><th scope=col>&lt;fct&gt;</th><th scope=col>&lt;int&gt;</th><th scope=col>&lt;int&gt;</th><th scope=col>&lt;int&gt;</th><th scope=col>&lt;int&gt;</th><th scope=col>&lt;int&gt;</th><th scope=col>&lt;int&gt;</th><th scope=col>⋯</th><th scope=col>&lt;int&gt;</th><th scope=col>&lt;int&gt;</th><th scope=col>&lt;int&gt;</th><th scope=col>&lt;int&gt;</th><th scope=col>&lt;int&gt;</th><th scope=col>&lt;int&gt;</th><th scope=col>&lt;int&gt;</th><th scope=col>&lt;int&gt;</th><th scope=col>&lt;int&gt;</th><th scope=col>&lt;int&gt;</th></tr>\n",
              "</thead>\n",
              "<tbody>\n",
              "\t<tr><th scope=row>105</th><td>NBA</td><td>Seth Curry   </td><td>SAC</td><td>SG</td><td>44</td><td> 694</td><td>102</td><td> 224</td><td> 50</td><td>111</td><td>⋯</td><td> 22</td><td> 36</td><td> 3</td><td> 41</td><td>0</td><td> 299</td><td>0</td><td>0</td><td>0</td><td> 9</td></tr>\n",
              "\t<tr><th scope=row>106</th><td>NBA</td><td>Stephen Curry</td><td>GSW</td><td>PG</td><td>79</td><td>2705</td><td>805</td><td>1597</td><td>402</td><td>887</td><td>⋯</td><td>169</td><td>261</td><td>16</td><td>161</td><td>0</td><td>2375</td><td>1</td><td>0</td><td>0</td><td>79</td></tr>\n",
              "</tbody>\n",
              "</table>\n"
            ]
          },
          "metadata": {
            "tags": []
          }
        }
      ]
    },
    {
      "cell_type": "code",
      "metadata": {
        "colab": {
          "base_uri": "https://localhost:8080/",
          "height": 253
        },
        "id": "x8KnczRgWbkB",
        "outputId": "9c21661a-8be0-4b67-9a0a-cdd7bc1079cc"
      },
      "source": [
        "NBA1516[grepl(\"Andrew\", NBA1516$Name),]"
      ],
      "execution_count": 65,
      "outputs": [
        {
          "output_type": "display_data",
          "data": {
            "text/plain": [
              "    League Name             Team Position GamesPlayed TotalMinutesPlayed\n",
              "55  NBA    Andrew Bogut     GSW  C        70          1452              \n",
              "328 NBA    Andrew Nicholson ORL  PF       56           821              \n",
              "456 NBA    Andrew Wiggins   MIN  SF       81          2844              \n",
              "    FieldGoalsMade FieldGoalsAttempted ThreesMade ThreesAttempted ⋯ Steals\n",
              "55  175             279                 1           1             ⋯ 32    \n",
              "328 146             309                41         113             ⋯ 10    \n",
              "456 594            1294                57         190             ⋯ 78    \n",
              "    Turnovers Blocks PersonalFouls Disqualifications TotalPoints Technicals\n",
              "55   83       113    221           4                  375        0         \n",
              "328  41        22     69           0                  384        0         \n",
              "456 182        46    165           1                 1675        1         \n",
              "    Ejections FlagrantFouls GamesStarted\n",
              "55  0         0             66          \n",
              "328 0         0              0          \n",
              "456 0         0             81          "
            ],
            "text/latex": "A data.frame: 3 × 25\n\\begin{tabular}{r|lllllllllllllllllllll}\n  & League & Name & Team & Position & GamesPlayed & TotalMinutesPlayed & FieldGoalsMade & FieldGoalsAttempted & ThreesMade & ThreesAttempted & ⋯ & Steals & Turnovers & Blocks & PersonalFouls & Disqualifications & TotalPoints & Technicals & Ejections & FlagrantFouls & GamesStarted\\\\\n  & <fct> & <chr> & <fct> & <fct> & <int> & <int> & <int> & <int> & <int> & <int> & ⋯ & <int> & <int> & <int> & <int> & <int> & <int> & <int> & <int> & <int> & <int>\\\\\n\\hline\n\t55 & NBA & Andrew Bogut     & GSW & C  & 70 & 1452 & 175 &  279 &  1 &   1 & ⋯ & 32 &  83 & 113 & 221 & 4 &  375 & 0 & 0 & 0 & 66\\\\\n\t328 & NBA & Andrew Nicholson & ORL & PF & 56 &  821 & 146 &  309 & 41 & 113 & ⋯ & 10 &  41 &  22 &  69 & 0 &  384 & 0 & 0 & 0 &  0\\\\\n\t456 & NBA & Andrew Wiggins   & MIN & SF & 81 & 2844 & 594 & 1294 & 57 & 190 & ⋯ & 78 & 182 &  46 & 165 & 1 & 1675 & 1 & 0 & 0 & 81\\\\\n\\end{tabular}\n",
            "text/markdown": "\nA data.frame: 3 × 25\n\n| <!--/--> | League &lt;fct&gt; | Name &lt;chr&gt; | Team &lt;fct&gt; | Position &lt;fct&gt; | GamesPlayed &lt;int&gt; | TotalMinutesPlayed &lt;int&gt; | FieldGoalsMade &lt;int&gt; | FieldGoalsAttempted &lt;int&gt; | ThreesMade &lt;int&gt; | ThreesAttempted &lt;int&gt; | ⋯ ⋯ | Steals &lt;int&gt; | Turnovers &lt;int&gt; | Blocks &lt;int&gt; | PersonalFouls &lt;int&gt; | Disqualifications &lt;int&gt; | TotalPoints &lt;int&gt; | Technicals &lt;int&gt; | Ejections &lt;int&gt; | FlagrantFouls &lt;int&gt; | GamesStarted &lt;int&gt; |\n|---|---|---|---|---|---|---|---|---|---|---|---|---|---|---|---|---|---|---|---|---|---|\n| 55 | NBA | Andrew Bogut     | GSW | C  | 70 | 1452 | 175 |  279 |  1 |   1 | ⋯ | 32 |  83 | 113 | 221 | 4 |  375 | 0 | 0 | 0 | 66 |\n| 328 | NBA | Andrew Nicholson | ORL | PF | 56 |  821 | 146 |  309 | 41 | 113 | ⋯ | 10 |  41 |  22 |  69 | 0 |  384 | 0 | 0 | 0 |  0 |\n| 456 | NBA | Andrew Wiggins   | MIN | SF | 81 | 2844 | 594 | 1294 | 57 | 190 | ⋯ | 78 | 182 |  46 | 165 | 1 | 1675 | 1 | 0 | 0 | 81 |\n\n",
            "text/html": [
              "<table class=\"dataframe\">\n",
              "<caption>A data.frame: 3 × 25</caption>\n",
              "<thead>\n",
              "\t<tr><th></th><th scope=col>League</th><th scope=col>Name</th><th scope=col>Team</th><th scope=col>Position</th><th scope=col>GamesPlayed</th><th scope=col>TotalMinutesPlayed</th><th scope=col>FieldGoalsMade</th><th scope=col>FieldGoalsAttempted</th><th scope=col>ThreesMade</th><th scope=col>ThreesAttempted</th><th scope=col>⋯</th><th scope=col>Steals</th><th scope=col>Turnovers</th><th scope=col>Blocks</th><th scope=col>PersonalFouls</th><th scope=col>Disqualifications</th><th scope=col>TotalPoints</th><th scope=col>Technicals</th><th scope=col>Ejections</th><th scope=col>FlagrantFouls</th><th scope=col>GamesStarted</th></tr>\n",
              "\t<tr><th></th><th scope=col>&lt;fct&gt;</th><th scope=col>&lt;chr&gt;</th><th scope=col>&lt;fct&gt;</th><th scope=col>&lt;fct&gt;</th><th scope=col>&lt;int&gt;</th><th scope=col>&lt;int&gt;</th><th scope=col>&lt;int&gt;</th><th scope=col>&lt;int&gt;</th><th scope=col>&lt;int&gt;</th><th scope=col>&lt;int&gt;</th><th scope=col>⋯</th><th scope=col>&lt;int&gt;</th><th scope=col>&lt;int&gt;</th><th scope=col>&lt;int&gt;</th><th scope=col>&lt;int&gt;</th><th scope=col>&lt;int&gt;</th><th scope=col>&lt;int&gt;</th><th scope=col>&lt;int&gt;</th><th scope=col>&lt;int&gt;</th><th scope=col>&lt;int&gt;</th><th scope=col>&lt;int&gt;</th></tr>\n",
              "</thead>\n",
              "<tbody>\n",
              "\t<tr><th scope=row>55</th><td>NBA</td><td>Andrew Bogut    </td><td>GSW</td><td>C </td><td>70</td><td>1452</td><td>175</td><td> 279</td><td> 1</td><td>  1</td><td>⋯</td><td>32</td><td> 83</td><td>113</td><td>221</td><td>4</td><td> 375</td><td>0</td><td>0</td><td>0</td><td>66</td></tr>\n",
              "\t<tr><th scope=row>328</th><td>NBA</td><td>Andrew Nicholson</td><td>ORL</td><td>PF</td><td>56</td><td> 821</td><td>146</td><td> 309</td><td>41</td><td>113</td><td>⋯</td><td>10</td><td> 41</td><td> 22</td><td> 69</td><td>0</td><td> 384</td><td>0</td><td>0</td><td>0</td><td> 0</td></tr>\n",
              "\t<tr><th scope=row>456</th><td>NBA</td><td>Andrew Wiggins  </td><td>MIN</td><td>SF</td><td>81</td><td>2844</td><td>594</td><td>1294</td><td>57</td><td>190</td><td>⋯</td><td>78</td><td>182</td><td> 46</td><td>165</td><td>1</td><td>1675</td><td>1</td><td>0</td><td>0</td><td>81</td></tr>\n",
              "</tbody>\n",
              "</table>\n"
            ]
          },
          "metadata": {
            "tags": []
          }
        }
      ]
    }
  ]
}