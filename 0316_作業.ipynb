{
  "nbformat": 4,
  "nbformat_minor": 0,
  "metadata": {
    "colab": {
      "name": "0316-作業.ipynb",
      "provenance": [],
      "collapsed_sections": [],
      "include_colab_link": true
    },
    "kernelspec": {
      "name": "ir",
      "display_name": "R"
    }
  },
  "cells": [
    {
      "cell_type": "markdown",
      "metadata": {
        "id": "view-in-github",
        "colab_type": "text"
      },
      "source": [
        "<a href=\"https://colab.research.google.com/github/caiyu-yang/Bigdata/blob/main/0316_%E4%BD%9C%E6%A5%AD.ipynb\" target=\"_parent\"><img src=\"https://colab.research.google.com/assets/colab-badge.svg\" alt=\"Open In Colab\"/></a>"
      ]
    },
    {
      "cell_type": "code",
      "metadata": {
        "id": "f6fQJuQqCIDN",
        "colab": {
          "base_uri": "https://localhost:8080/"
        },
        "outputId": "b5e6f030-bec3-4005-e188-4e21d1686c81"
      },
      "source": [
        "install.packages(\"jsonlite\")"
      ],
      "execution_count": null,
      "outputs": [
        {
          "output_type": "stream",
          "text": [
            "Installing package into ‘/usr/local/lib/R/site-library’\n",
            "(as ‘lib’ is unspecified)\n",
            "\n"
          ],
          "name": "stderr"
        }
      ]
    },
    {
      "cell_type": "code",
      "metadata": {
        "id": "AW_kf6txUqbc"
      },
      "source": [
        "library(\"jsonlite\")"
      ],
      "execution_count": null,
      "outputs": []
    },
    {
      "cell_type": "code",
      "metadata": {
        "id": "nVVBuZwzU0jr"
      },
      "source": [
        "Data <- jsonlite::fromJSON(\"http://odata.tn.edu.tw/ebookApi/api/content/?ResourceTypeID=2&AreaID=1&Keyword=X&&PageSize=40&PageIndex=0\")"
      ],
      "execution_count": null,
      "outputs": []
    },
    {
      "cell_type": "code",
      "metadata": {
        "colab": {
          "base_uri": "https://localhost:8080/"
        },
        "id": "UEZMbCeHYFTv",
        "outputId": "96aa3a54-1fed-4df6-858b-c0cefc51f180"
      },
      "source": [
        "str(Data)"
      ],
      "execution_count": null,
      "outputs": [
        {
          "output_type": "stream",
          "text": [
            "'data.frame':\t14 obs. of  11 variables:\n",
            " $ ResourceID      : int  1469 2125 2129 2331 2394 2400 2402 2403 2451 2452 ...\n",
            " $ ResourceName    : chr  \"Vegetalian food X Afternoon Tea\" \"鹽田采風\" \"肉豬種豬拍賣\" \"A fox and a crow\" ...\n",
            " $ ResourceTypeName: chr  \"教材\" \"教材\" \"教材\" \"教材\" ...\n",
            " $ Description     : chr  \"有人說吃素都不營養，也有人說素食的東西都沒有滋味、更沒有變化，實際上那是很落伍的想法了，現代茹素的朋友，經過世\"| __truncated__ \"鹽田環境介紹\\r\\n\\r\\n解壓縮以後，開啟index.html\" \"紀錄善化屠宰場肉豬拍賣與新化畜產試驗所種豬拍賣過程。\\r\\n\\r\\n解壓所後，開啟index.htm\" \" The cheese is so tasty.\" ...\n",
            " $ Source          : chr  \"學習資源網\" \"學習資源網\" \"學習資源網\" \"學習資源網\" ...\n",
            " $ AreaName        : chr  \"生活\" \"生活\" \"生活\" \"生活\" ...\n",
            " $ IsCCID          : logi  TRUE TRUE TRUE TRUE TRUE TRUE ...\n",
            " $ URL             : chr  \"http://163.26.1.53/content/PersonalResource/101/11/1469_ryom/Vegetalian_food_X_Afternoon_Tea.zip\" \"http://163.26.1.53/content/PersonalResource/101/11/2125_sjc3/00salt.zip\" \"http://163.26.1.53/content/PersonalResource/101/11/2129_sjc3/pig-sale.zip\" \"http://163.26.1.53/content/PersonalResource/101/11/2331_tnpi/IMG_0337.jpg\" ...\n",
            " $ QuotedTimes     : int  0 0 0 0 0 0 0 0 0 0 ...\n",
            " $ ReadTimes       : int  0 0 0 0 0 0 0 0 0 0 ...\n",
            " $ CreateTime      : chr  \"2012-11-02T11:34:00\" \"2012-11-08T09:39:00\" \"2012-11-08T09:45:00\" \"2012-11-10T12:59:00\" ...\n"
          ],
          "name": "stdout"
        }
      ]
    },
    {
      "cell_type": "code",
      "metadata": {
        "colab": {
          "base_uri": "https://localhost:8080/",
          "height": 34
        },
        "id": "wjLX8pOuYisX",
        "outputId": "08fc7017-0f48-4b52-f2ea-ea45aff85e8d"
      },
      "source": [
        "head(Data$ResourceID, n=10)"
      ],
      "execution_count": null,
      "outputs": [
        {
          "output_type": "display_data",
          "data": {
            "text/plain": [
              " [1] 1469 2125 2129 2331 2394 2400 2402 2403 2451 2452"
            ],
            "text/latex": "\\begin{enumerate*}\n\\item 1469\n\\item 2125\n\\item 2129\n\\item 2331\n\\item 2394\n\\item 2400\n\\item 2402\n\\item 2403\n\\item 2451\n\\item 2452\n\\end{enumerate*}\n",
            "text/markdown": "1. 1469\n2. 2125\n3. 2129\n4. 2331\n5. 2394\n6. 2400\n7. 2402\n8. 2403\n9. 2451\n10. 2452\n\n\n",
            "text/html": [
              "<style>\n",
              ".list-inline {list-style: none; margin:0; padding: 0}\n",
              ".list-inline>li {display: inline-block}\n",
              ".list-inline>li:not(:last-child)::after {content: \"\\00b7\"; padding: 0 .5ex}\n",
              "</style>\n",
              "<ol class=list-inline><li>1469</li><li>2125</li><li>2129</li><li>2331</li><li>2394</li><li>2400</li><li>2402</li><li>2403</li><li>2451</li><li>2452</li></ol>\n"
            ]
          },
          "metadata": {
            "tags": []
          }
        }
      ]
    },
    {
      "cell_type": "code",
      "metadata": {
        "colab": {
          "base_uri": "https://localhost:8080/",
          "height": 34
        },
        "id": "i7XXRLczZeed",
        "outputId": "a84dee33-ddf5-4845-d90a-15edfee5d074"
      },
      "source": [
        "tail(Data$ResourceID, n=10)"
      ],
      "execution_count": null,
      "outputs": [
        {
          "output_type": "display_data",
          "data": {
            "text/plain": [
              " [1] 2394 2400 2402 2403 2451 2452 2459 2469 2471 2547"
            ],
            "text/latex": "\\begin{enumerate*}\n\\item 2394\n\\item 2400\n\\item 2402\n\\item 2403\n\\item 2451\n\\item 2452\n\\item 2459\n\\item 2469\n\\item 2471\n\\item 2547\n\\end{enumerate*}\n",
            "text/markdown": "1. 2394\n2. 2400\n3. 2402\n4. 2403\n5. 2451\n6. 2452\n7. 2459\n8. 2469\n9. 2471\n10. 2547\n\n\n",
            "text/html": [
              "<style>\n",
              ".list-inline {list-style: none; margin:0; padding: 0}\n",
              ".list-inline>li {display: inline-block}\n",
              ".list-inline>li:not(:last-child)::after {content: \"\\00b7\"; padding: 0 .5ex}\n",
              "</style>\n",
              "<ol class=list-inline><li>2394</li><li>2400</li><li>2402</li><li>2403</li><li>2451</li><li>2452</li><li>2459</li><li>2469</li><li>2471</li><li>2547</li></ol>\n"
            ]
          },
          "metadata": {
            "tags": []
          }
        }
      ]
    },
    {
      "cell_type": "code",
      "metadata": {
        "colab": {
          "base_uri": "https://localhost:8080/",
          "height": 70
        },
        "id": "WtJVGzyZZk7d",
        "outputId": "4781220a-4397-47e7-ffbf-6582f3f0f33b"
      },
      "source": [
        "table(Data$ResourceID)"
      ],
      "execution_count": null,
      "outputs": [
        {
          "output_type": "display_data",
          "data": {
            "text/plain": [
              "\n",
              "1469 2125 2129 2331 2394 2400 2402 2403 2451 2452 2459 2469 2471 2547 \n",
              "   1    1    1    1    1    1    1    1    1    1    1    1    1    1 "
            ]
          },
          "metadata": {
            "tags": []
          }
        }
      ]
    },
    {
      "cell_type": "code",
      "metadata": {
        "colab": {
          "base_uri": "https://localhost:8080/",
          "height": 70
        },
        "id": "UIJXyBpTZygN",
        "outputId": "f8a29535-57fc-4842-e8d6-e1eb9dee5af0"
      },
      "source": [
        "table(Data$Source)"
      ],
      "execution_count": null,
      "outputs": [
        {
          "output_type": "display_data",
          "data": {
            "text/plain": [
              "\n",
              "學習資源網 \n",
              "        14 "
            ]
          },
          "metadata": {
            "tags": []
          }
        }
      ]
    },
    {
      "cell_type": "code",
      "metadata": {
        "colab": {
          "base_uri": "https://localhost:8080/",
          "height": 246
        },
        "id": "DpBZD4_SaBI3",
        "outputId": "86afccd1-b5e5-4231-9527-e2bcbaeb7a4d"
      },
      "source": [
        "table(Data$ResourceName)"
      ],
      "execution_count": null,
      "outputs": [
        {
          "output_type": "display_data",
          "data": {
            "text/plain": [
              "\n",
              "                A fox and a crow Artistic expression of gratitude \n",
              "                               1                                1 \n",
              "               Classroom English                   Draw and color \n",
              "                               1                                1 \n",
              "                     Performance                  Reading a story \n",
              "                               1                                1 \n",
              "            The crow and the fox             The fox and the crow \n",
              "                               1                                4 \n",
              " Vegetalian food X Afternoon Tea                     肉豬種豬拍賣 \n",
              "                               1                                1 \n",
              "                        鹽田采風 \n",
              "                               1 "
            ]
          },
          "metadata": {
            "tags": []
          }
        }
      ]
    }
  ]
}